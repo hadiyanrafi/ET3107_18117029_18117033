{
 "cells": [
  {
   "cell_type": "code",
   "execution_count": 4,
   "metadata": {},
   "outputs": [
    {
     "name": "stdout",
     "output_type": "stream",
     "text": [
      "Mari kita bermain kata !!!\n",
      "Di program ini, kamu bisa memilih untuk mengonversi ke kata alay atau membalik kata!\n",
      "Isi \"key\" dengan 1 untuk mengonversi ke kata alay & isi \"key\" dengan 2 untuk membalik kata!\n",
      "Key : 3\n",
      "Key tidak valid!\n"
     ]
    }
   ],
   "source": [
    "# Program ALAY\n",
    "# Arinil Haq Salsabila (18117029)\n",
    "# Hadiyan Rafi Armandsyah (18117033)\n",
    "\n",
    "print('Mari kita bermain kata !!!')\n",
    "print('Di program ini, kamu bisa memilih untuk mengonversi ke kata alay atau membalik kata!')\n",
    "print('Isi \"key\" dengan 1 untuk mengonversi ke kata alay & isi \"key\" dengan 2 untuk membalik kata!')\n",
    "key = input('Key : ')\n",
    "if key == '1':\n",
    "    # Program Alay\n",
    "    print('SELAMAT DATANG DI PROGRAM \"KATA ALAY\"')\n",
    "    word = input('Masukkan kata yang ingin dikonversi : ')\n",
    "    new = ''\n",
    "    if len(word) > 0 and word.isalpha():\n",
    "        for i in range(0,len(word)):\n",
    "            if i%2 == 0:\n",
    "                huruf = word[i]\n",
    "                huruf = huruf.lower()\n",
    "                new = new + huruf\n",
    "            else:\n",
    "                huruf = word[i]\n",
    "                huruf = huruf.upper()\n",
    "                new = new + huruf\n",
    "        print('Hasil konversi KATA ALAY : ~',new,'~')\n",
    "    else:\n",
    "        print('Kata yang dimasukkan tidak valid!')\n",
    "elif key == '2':\n",
    "    # Program Pembalik Kata\n",
    "    print('SELAMAT DATANG DI PROGRAM \"PEMBALIK KATA\" :)')\n",
    "    word = input('Masukkan kata yang ingin dikonversi : ')\n",
    "    new = ''\n",
    "    if len(word) > 0 and word.isalpha():\n",
    "        for i in range(0,len(word)):\n",
    "            last = word[len(word)-1]\n",
    "            new = new + last\n",
    "            word = word[0:len(word)-1]\n",
    "        print('Hasil konversi dengan pembalik kata : ',new)\n",
    "    else:\n",
    "        print('Kata yang dimasukkan tidak valid!') \n",
    "else:\n",
    "    print('Key tidak valid!')"
   ]
  }
 ],
 "metadata": {
  "kernelspec": {
   "display_name": "Python 3",
   "language": "python",
   "name": "python3"
  },
  "language_info": {
   "codemirror_mode": {
    "name": "ipython",
    "version": 3
   },
   "file_extension": ".py",
   "mimetype": "text/x-python",
   "name": "python",
   "nbconvert_exporter": "python",
   "pygments_lexer": "ipython3",
   "version": "3.7.3"
  }
 },
 "nbformat": 4,
 "nbformat_minor": 2
}
