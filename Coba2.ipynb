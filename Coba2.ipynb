{
 "cells": [
  {
   "cell_type": "code",
   "execution_count": 1,
   "metadata": {},
   "outputs": [
    {
     "name": "stdout",
     "output_type": "stream",
     "text": [
      "100\n",
      "100\n",
      "90\n",
      "40\n",
      "80\n",
      "100\n",
      "85\n",
      "70\n",
      "90\n",
      "65\n",
      "90\n",
      "85\n",
      "50.5\n",
      "1045.5\n",
      "80.42307692307692\n"
     ]
    }
   ],
   "source": [
    "# Mulai slide 80\n",
    "#Exam Statistics\n",
    "grades = [100, 100, 90, 40, 80, 100, 85, 70, 90, 65, 90, 85, 50.5]\n",
    "def print_grades(grades):\n",
    "    for grade in grades: print (grade)\n",
    "def grades_sum(scores):\n",
    "    total = 0\n",
    "    for score in scores: total += score\n",
    "    return total\n",
    "def grades_average(grades):\n",
    "    return grades_sum(grades)/float(len(grades))\n",
    "print_grades(grades)\n",
    "print (grades_sum(grades))\n",
    "print (grades_average(grades))"
   ]
  },
  {
   "cell_type": "code",
   "execution_count": 3,
   "metadata": {},
   "outputs": [
    {
     "name": "stdout",
     "output_type": "stream",
     "text": [
      "100\n",
      "100\n",
      "90\n",
      "40\n",
      "80\n",
      "100\n",
      "85\n",
      "70\n",
      "90\n",
      "65\n",
      "90\n",
      "85\n",
      "50.5\n",
      "None\n",
      "1045.5\n",
      "80.42307692307692\n",
      "334.0710059171598\n",
      "18.277609414722697\n"
     ]
    }
   ],
   "source": [
    "def grades_average(grades):\n",
    "    sum_of_grades = grades_sum(grades)\n",
    "    average = sum_of_grades / float(len(grades))\n",
    "    return average\n",
    "def grades_variance(scores):\n",
    "    average = grades_average(scores)\n",
    "    variance = 0\n",
    "    for score in scores:\n",
    "        variance += (average - score) ** 2\n",
    "    variance /= float(len(scores))\n",
    "    return variance\n",
    "def grades_std_deviation(variance): return variance ** 0.5\n",
    "variance = grades_variance(grades)\n",
    "print (print_grades(grades))\n",
    "print (grades_sum(grades))\n",
    "print (grades_average(grades))\n",
    "print (grades_variance(grades))\n",
    "print (grades_std_deviation(variance))"
   ]
  },
  {
   "cell_type": "code",
   "execution_count": 4,
   "metadata": {},
   "outputs": [
    {
     "name": "stdout",
     "output_type": "stream",
     "text": [
      "dict_items([('Name', 'Otong'), ('Age', 23), ('Title', 'Dr')])\n",
      "dict_keys(['Name', 'Age', 'Title'])\n",
      "dict_values(['Otong', 23, 'Dr'])\n",
      "Name Otong\n",
      "Age 23\n",
      "Title Dr\n"
     ]
    }
   ],
   "source": [
    "#ADVANCED TOPICS IN PYTHON\n",
    "\n",
    "#List Comprehensions\n",
    "my_dict = {\n",
    "    \"Name\": \"Otong\",\n",
    "    \"Age\": 23,\n",
    "    \"Title\": \"Dr\"\n",
    "}\n",
    "print (my_dict.items())  # [('Age', 23), ('Name', 'Otong'), ('Title', 'Dr')]\n",
    "print (my_dict.keys())   # ['Age', 'Name', 'Title']\n",
    "print (my_dict.values()) # [23, 'Otong', 'Dr']\n",
    "for key in my_dict: print (key, my_dict[key])\n",
    "# Age 23\n",
    "# Name Otong\n",
    "# Title Dr\n",
    "# You should use print a, b rather than print a + \" \" + b"
   ]
  },
  {
   "cell_type": "code",
   "execution_count": 5,
   "metadata": {},
   "outputs": [
    {
     "name": "stdout",
     "output_type": "stream",
     "text": [
      "[0, 2, 4, 6, 8, 10, 12, 14, 16, 18, 20, 22, 24, 26, 28, 30, 32, 34, 36, 38, 40, 42, 44, 46, 48, 50]\n",
      "[4, 16, 36, 64, 100]\n"
     ]
    }
   ],
   "source": [
    "# 1\n",
    "evens_to_50 = [i for i in range(51) if i % 2 == 0]\n",
    "print (evens_to_50)\n",
    "# [0, 2, 4, 6, 8, 10, 12, 14, 16, 18, 20, 22, 24, 26, 28, 30, 32, 34, 36, 38, 40, 42, 44, 46, 48, 50]\n",
    "# ---------------------------------------------------------\n",
    "# 2\n",
    "new_list = [x for x in range(1,6)]                       # => [1, 2, 3, 4, 5]\n",
    "doubles = [x*2 for x in range(1,6)]                      # => [2, 4, 6, 8, 10]\n",
    "doubles_by_3 = [x*2 for x in range(1,6) if (x*2)%3 == 0] # => [6]\n",
    "# ---------------------------------------------------------\n",
    "# 3\n",
    "doubles_by_3 = [x*2 for x in range(1,6) if (x*2) % 3 == 0]\n",
    "even_squares = [x**2 for x in range(1,12) if x%2 == 0]\n",
    "print (even_squares) # [4, 16, 36, 64, 100]\n",
    "# ---------------------------------------------------------"
   ]
  },
  {
   "cell_type": "code",
   "execution_count": 6,
   "metadata": {},
   "outputs": [
    {
     "name": "stdout",
     "output_type": "stream",
     "text": [
      "['C', 'C', 'C']\n",
      "[8, 64, 216, 512, 1000]\n",
      "[9, 25, 49, 81]\n"
     ]
    }
   ],
   "source": [
    "# 4\n",
    "c = ['C' for x in range(5) if x < 3]\n",
    "print (c) # ['C', 'C', 'C']\n",
    "# ---------------------------------------------------------\n",
    "# 5\n",
    "cubes_by_four = [x**3 for x in range(1,11) if (x**3)%4 == 0]\n",
    "print (cubes_by_four) # [8, 64, 216, 512, 1000]\n",
    "# ---------------------------------------------------------\n",
    "# 6\n",
    "l = [i ** 2 for i in range(1, 11)]  # Should be [1, 4, 9, 16, 25, 36, 49, 64, 81, 100]\n",
    "print (l[2:9:2]) # [9, 25, 49, 81] -- 2 belakang, 1 diloncat\n",
    "# list slicing\n",
    "# [start:end:stride]\n",
    "# Where start describes where the slice starts (inclusive), end is where it ends (exclusive), \n",
    "# and stride describes the space between items in the sliced list. For example, a stride of 2 \n",
    "# would select every other item from the original list to place in the sliced list.\n",
    "# start & end --> index"
   ]
  },
  {
   "cell_type": "code",
   "execution_count": 7,
   "metadata": {},
   "outputs": [
    {
     "name": "stdout",
     "output_type": "stream",
     "text": [
      "['D', 'E']\n",
      "['A', 'B']\n",
      "['A', 'C', 'E']\n",
      "range(1, 11, 2)\n"
     ]
    }
   ],
   "source": [
    "# 7\n",
    "to_five = ['A', 'B', 'C', 'D', 'E']\n",
    "print (to_five[3:]) #['D', 'E'] \n",
    "print (to_five[:2])  #['A', 'B']\n",
    "print (to_five[::2]) #['A', 'C', 'E']\n",
    "\"\"\"\n",
    "The default starting index is 0.\n",
    "The default ending index is the end of the list.\n",
    "The default stride is 1.\n",
    "\"\"\"\n",
    "# ---------------------------------------------------------\n",
    "# 8\n",
    "my_list = range(1, 11) # List of numbers 1 - 10\n",
    "print (my_list[::2]) #[1, 3, 5, 7, 9]\n",
    "# ---------------------------------------------------------"
   ]
  },
  {
   "cell_type": "code",
   "execution_count": 8,
   "metadata": {},
   "outputs": [
    {
     "name": "stdout",
     "output_type": "stream",
     "text": [
      "['E', 'D', 'C', 'B', 'A']\n",
      "range(100, -1, -10)\n"
     ]
    }
   ],
   "source": [
    "# 9\n",
    "letters = ['A', 'B', 'C', 'D', 'E']\n",
    "print (letters[::-1]) #['E', 'D', 'C', 'B', 'A'] right to left\n",
    "# ---------------------------------------------------------\n",
    "# 10\n",
    "my_list = range(1, 11)\n",
    "backwards = my_list[::-1]\n",
    "# ---------------------------------------------------------\n",
    "# 11\n",
    "to_one_hundred = range(101)\n",
    "backwards_by_tens = to_one_hundred[::-10]\n",
    "print (backwards_by_tens) #[100, 90, 80, 70, 60, 50, 40, 30, 20, 10, 0]\n",
    "# ---------------------------------------------------------\n",
    "# 12\n",
    "to_21 = range(1,22)\n",
    "odds = to_21[::2]\n",
    "middle_third = to_21[7:14]"
   ]
  },
  {
   "cell_type": "code",
   "execution_count": 10,
   "metadata": {},
   "outputs": [
    {
     "name": "stdout",
     "output_type": "stream",
     "text": [
      "<filter object at 0x000001A26D4EC978>\n",
      "<filter object at 0x000001A26D4ECA58>\n",
      "<filter object at 0x000001A26D4ECA90>\n",
      "<filter object at 0x000001A26D4ECA20>\n"
     ]
    }
   ],
   "source": [
    "#Lambda - Anonymous Function\n",
    "# ekivalen\n",
    "lambda x: x % 3 == 0\n",
    "def by_three(x): return x % 3 == 0\n",
    "# ---------------------------------------------------------\n",
    "# filter\n",
    "my_list = range(16)\n",
    "print (filter(lambda x: x % 3 == 0, my_list))\n",
    "# yg bs di bagi 3 -> [0, 3, 6, 9, 12, 15]\n",
    "# ---------------------------------------------------------\n",
    "languages = [\"HTML\", \"JavaScript\", \"Python\", \"Ruby\"]\n",
    "print (filter(lambda x: x==\"Python\", languages)) # ['Python']\n",
    "# ---------------------------------------------------------\n",
    "cubes = [x**3 for x in range(1, 11)]\n",
    "print (filter(lambda x: x % 3 == 0, cubes))\n",
    "# ---------------------------------------------------------\n",
    "squares = [x**2 for x in range(1,11)]\n",
    "print (filter(lambda x: x > 30 and x <=70, squares)) # [36, 49, 64]\n",
    "# ---------------------------------------------------------"
   ]
  },
  {
   "cell_type": "code",
   "execution_count": 11,
   "metadata": {},
   "outputs": [
    {
     "name": "stdout",
     "output_type": "stream",
     "text": [
      "dict_items([('Monty Python and the Holy Grail', 'Great'), (\"Monty Python's Life of Brian\", 'Good'), (\"Monty Python's Meaning of Life\", 'Okay')])\n"
     ]
    }
   ],
   "source": [
    "#Recap\n",
    "# Dictionary\n",
    "movies = {\n",
    "    \"Monty Python and the Holy Grail\": \"Great\",\n",
    "    \"Monty Python's Life of Brian\": \"Good\",\n",
    "    \"Monty Python's Meaning of Life\": \"Okay\"\n",
    "}\n",
    "print (movies.items())\n",
    "#for key in movies: print key, my_dict[key]\n",
    "# ---------------------------------------------------------\n",
    "# Comprehending Comprehensions\n",
    "squares = [x**2 for x in range(5)]\n",
    "threes_and_fives = [x for x in range(1,16) if x%3 == 0 or x%5 ==0]"
   ]
  },
  {
   "cell_type": "code",
   "execution_count": 12,
   "metadata": {},
   "outputs": [
    {
     "name": "stdout",
     "output_type": "stream",
     "text": [
      "I am the secret message!\n",
      "<filter object at 0x000001A26D4EE2B0>\n",
      "<filter object at 0x000001A26D4EE320>\n"
     ]
    }
   ],
   "source": [
    "# List Slicing\n",
    "str = \"ABCDEFGHIJ\"\n",
    "# str[start:end:stride] -> start, end, stride = 1, 6, 2\n",
    "# ---------------------------------------------------------\n",
    "garbled = \"!XeXgXaXsXsXeXmX XtXeXrXcXeXsX XeXhXtX XmXaX XI\"\n",
    "rev_garbled = garbled[::-1]\n",
    "message = rev_garbled[::2]\n",
    "print (message)\n",
    "# ---------------------------------------------------------\n",
    "# Lambda\n",
    "my_list = range(16)\n",
    "print (filter(lambda x: x % 3 == 0, my_list))\n",
    "garbled = \"IXXX aXXmX aXXXnXoXXXXXtXhXeXXXXrX sXXXXeXcXXXrXeXt mXXeXsXXXsXaXXXXXXgXeX!XX\"\n",
    "message = filter(lambda x: x != 'X',garbled)\n",
    "print (message)"
   ]
  },
  {
   "cell_type": "code",
   "execution_count": 17,
   "metadata": {},
   "outputs": [
    {
     "name": "stdout",
     "output_type": "stream",
     "text": [
      "0\n",
      "10\n",
      "0\n",
      "13\n",
      "38\n",
      "-89\n",
      "1\n",
      "2\n",
      "3\n",
      "4\n",
      "5\n",
      "6\n",
      "7\n",
      "4\n",
      "9\n"
     ]
    }
   ],
   "source": [
    "# Bitwise Operators\n",
    "# bitwise operator\n",
    "print (5 >> 4)  # Right Shift 101 -> 0\n",
    "print (5 << 1)  # Left Shift 101 -> 1010\n",
    "print (8 & 5)   # Bitwise AND 1000 & 0101 -> 0\n",
    "print (9 | 4)   # Bitwise OR\n",
    "print (12 ^ 42) # Bitwise XOR\n",
    "print (~88)     # Bitwise NOT\n",
    "# 0 | 10 | 0 | 13 | 38 | -89\n",
    "# ---------------------------------------------------------\n",
    "# hasil operasi print -> desimal\n",
    "print (0b1),    #1\n",
    "print (0b10),   #2\n",
    "print (0b11), #3\n",
    "print (0b100),  #4\n",
    "print (0b101),  #5\n",
    "print (0b110),  #6\n",
    "print (0b111)   #7\n",
    "#1 2 3 4 5 6 7\n",
    "print (0b1 + 0b11)  #4\n",
    "print (0b11 * 0b11) #9"
   ]
  },
  {
   "cell_type": "code",
   "execution_count": 19,
   "metadata": {},
   "outputs": [
    {
     "name": "stdout",
     "output_type": "stream",
     "text": [
      "8\n",
      "0b1\n",
      "0b10\n",
      "0b11\n",
      "0b100\n",
      "0b101\n",
      "1\n",
      "2\n",
      "7\n",
      "4\n",
      "5\n",
      "201\n"
     ]
    }
   ],
   "source": [
    "one = 0b1; two = 0b10; three = 0b11; four = 0b100; five = 0b101; six = 0b110; \n",
    "seven = 0b111; eight = 0b1000; nine = 0b1001; ten = 0b1010; eleven = 0b1011; twelve = 0b1100\n",
    "print (eight)\n",
    "# ---------------------------------------------------------\n",
    "print (bin(1)) #0b1\n",
    "print (bin(2)) #0b10\n",
    "print (bin(3)) #0b11\n",
    "print (bin(4)) #0b100\n",
    "print (bin(5)) #0b101\n",
    "# ---------------------------------------------------------\n",
    "print (int(\"1\",2))     # 1\n",
    "print (int(\"10\",2))    # 2\n",
    "print (int(\"111\",2))   # 7\n",
    "print (int(\"0b100\",2)) # 4\n",
    "print (int(bin(5),2))  # 5\n",
    "# Print out the decimal equivalent of the binary 11001001.\n",
    "print (int(\"0b11001001\",2)) # 201\n",
    "# base 2 semua, pakei 0b atau gak, sama"
   ]
  },
  {
   "cell_type": "code",
   "execution_count": 20,
   "metadata": {},
   "outputs": [
    {
     "name": "stdout",
     "output_type": "stream",
     "text": [
      "0b11\n",
      "0b100\n",
      "0b100\n",
      "0b1111\n",
      "0b1011\n",
      "-2\n",
      "-3\n",
      "-4\n",
      "-43\n",
      "-124\n"
     ]
    }
   ],
   "source": [
    "shift_right = 0b1100\n",
    "shift_left = 0b1\n",
    "shift_right = shift_right >> 2\n",
    "shift_left = shift_left << 2\n",
    "print (bin(shift_right))  # 0b11\n",
    "print (bin(shift_left))   # 0b100\n",
    "# ---------------------------------------------------------\n",
    "print (bin(0b1110 & 0b101)) # 0b100\n",
    "print (bin(0b1110 | 0b101)) # 0b1111\n",
    "print (bin(0b1110 ^ 0b101)) # xor 0b1011\n",
    "# ---------------------------------------------------------\n",
    "print (~1)   #-2\n",
    "print (~2)   #-3\n",
    "print (~3)   #-4\n",
    "print (~42)  #-43\n",
    "print (~123) #-124\n",
    "# this is equivalent to adding one to the number and then making it negative."
   ]
  },
  {
   "cell_type": "code",
   "execution_count": 22,
   "metadata": {},
   "outputs": [
    {
     "name": "stdout",
     "output_type": "stream",
     "text": [
      "0b10111111\n",
      "0b10111111\n",
      "0b10001\n"
     ]
    }
   ],
   "source": [
    "# mask\n",
    "def check_bit4(input): # input reserved?\n",
    "    mask = 0b1000\n",
    "    desired = input & mask\n",
    "    if desired > 0: return \"on\"\n",
    "    else: return \"off\"\n",
    "# ---------------------------------------------------------\n",
    "a = 0b10111011\n",
    "mask = 0b100\n",
    "print (bin(a | mask)) # 0b10111111\n",
    "print (bin(a ^ mask)) # 0b10111111\n",
    "# ---------------------------------------------------------\n",
    "a = 0b11101110\n",
    "mask = 0b11111111   #flip *semua* bit a\n",
    "print (bin(a ^ mask)) # 0b10001 \n",
    "# ---------------------------------------------------------\n",
    "def flip_bit(number,n):\n",
    "    mask = (0b1 << (n-1))\n",
    "    result = number ^ mask\n",
    "    return bin(result)\n",
    "#xor kalau mask 1 nge-flip; kalo mask 0 tetap"
   ]
  },
  {
   "cell_type": "code",
   "execution_count": 23,
   "metadata": {},
   "outputs": [
    {
     "name": "stdout",
     "output_type": "stream",
     "text": [
      "I'm a yellow lemon and I taste sour.\n",
      "Yep! I'm edible.\n"
     ]
    }
   ],
   "source": [
    "#INTRODUCTION TO CLASSES\n",
    "\n",
    "class Fruit(object):\n",
    "    \"\"\"A class that makes various tasty fruits.\"\"\"\n",
    "    def __init__(self, name, color, flavor, poisonous):\n",
    "        self.name = name\n",
    "        self.color = color\n",
    "        self.flavor = flavor\n",
    "        self.poisonous = poisonous\n",
    "    def description(self):\n",
    "        print (\"I'm a %s %s and I taste %s.\" % (self.color, self.name, self.flavor))\n",
    "    def is_edible(self):\n",
    "        if not self.poisonous: print (\"Yep! I'm edible.\")\n",
    "        else: print (\"Don't eat me! I am super poisonous.\")\n",
    "# ---------------------------------------------------------\n",
    "lemon = Fruit(\"lemon\", \"yellow\", \"sour\", False)\n",
    "lemon.description()\n",
    "lemon.is_edible()"
   ]
  },
  {
   "cell_type": "code",
   "execution_count": 24,
   "metadata": {},
   "outputs": [
    {
     "name": "stdout",
     "output_type": "stream",
     "text": [
      "Jeffrey\n",
      "4\n"
     ]
    }
   ],
   "source": [
    "class Animal(object): pass\n",
    "class Animal(object):\n",
    "    def __init__(self): pass\n",
    "class Animal(object):\n",
    "    def __init__(self,name): self.name = name\n",
    "zebra = Animal(\"Jeffrey\")\n",
    "print (zebra.name)\n",
    "# ---------------------------------------------------------\n",
    "class Square(object):\n",
    "  def __init__(self): self.sides = 4\n",
    "my_shape = Square()\n",
    "print (my_shape.sides)"
   ]
  },
  {
   "cell_type": "code",
   "execution_count": 25,
   "metadata": {},
   "outputs": [
    {
     "name": "stdout",
     "output_type": "stream",
     "text": [
      "Jeffrey 2 True\n",
      "Bruce 1 False\n",
      "Chad 7 True\n"
     ]
    }
   ],
   "source": [
    "class Animal(object):\n",
    "    \"\"\"Makes cute animals.\"\"\"\n",
    "    def __init__(self, name, age, is_hungry):\n",
    "        self.name = name\n",
    "        self.age = age\n",
    "        self.is_hungry = is_hungry\n",
    "# Note that self is only used in the __init__() function *definition*; \n",
    "# we don't need to pass it to our instance objects.\n",
    "zebra = Animal(\"Jeffrey\", 2, True)\n",
    "giraffe = Animal(\"Bruce\", 1, False)\n",
    "panda = Animal(\"Chad\", 7, True)\n",
    "print (zebra.name, zebra.age, zebra.is_hungry)        # Jeffrey 2 True\n",
    "print (giraffe.name, giraffe.age, giraffe.is_hungry)  # Bruce 1 False\n",
    "print (panda.name, panda.age, panda.is_hungry)        # Chad 7 True"
   ]
  },
  {
   "cell_type": "code",
   "execution_count": 26,
   "metadata": {},
   "outputs": [
    {
     "name": "stdout",
     "output_type": "stream",
     "text": [
      "Jeffrey 2 True\n",
      "Bruce 1 True\n",
      "Chad 7 True\n"
     ]
    }
   ],
   "source": [
    "#Class Scope\n",
    "class Animal(object):\n",
    "    \"\"\"Makes cute animals.\"\"\"\n",
    "    is_alive = True\n",
    "    def __init__(self, name, age):\n",
    "        self.name = name\n",
    "        self.age = age\n",
    "zebra = Animal(\"Jeffrey\", 2)\n",
    "giraffe = Animal(\"Bruce\", 1)\n",
    "panda = Animal(\"Chad\", 7)\n",
    "print (zebra.name, zebra.age, zebra.is_alive)        #Jeffrey 2 True\n",
    "print (giraffe.name, giraffe.age, giraffe.is_alive)  #Bruce 1 True\n",
    "print (panda.name, panda.age, panda.is_alive)        #Chad 7 True\n",
    "#is_alive member variable; name,age instance variables"
   ]
  },
  {
   "cell_type": "code",
   "execution_count": 27,
   "metadata": {},
   "outputs": [
    {
     "name": "stdout",
     "output_type": "stream",
     "text": [
      "Nil\n",
      "5\n",
      "True\n",
      "False\n",
      "True\n"
     ]
    }
   ],
   "source": [
    "class Animal(object):\n",
    "    is_alive = True\n",
    "    def __init__(self, name, age):\n",
    "        self.name = name\n",
    "        self.age = age\n",
    "    def description(self):\n",
    "        print (self.name)\n",
    "        print (self.age)\n",
    "hippo = Animal(\"Nil\",5)\n",
    "hippo.description()\n",
    "# ---------------------------------------------------------\n",
    "hippo = Animal(\"Jake\", 12)\n",
    "cat = Animal(\"Boots\", 3)\n",
    "print (hippo.is_alive)    # True\n",
    "hippo.is_alive = False\n",
    "print (hippo.is_alive)    # False\n",
    "print (cat.is_alive)      # True"
   ]
  },
  {
   "cell_type": "code",
   "execution_count": 28,
   "metadata": {},
   "outputs": [
    {
     "name": "stdout",
     "output_type": "stream",
     "text": [
      "Nil\n",
      "5\n",
      "good\n",
      "good\n",
      "good\n"
     ]
    }
   ],
   "source": [
    "class Animal(object):\n",
    "    is_alive = True\n",
    "    health = \"good\"\n",
    "    def __init__(self, name, age):\n",
    "        self.name = name\n",
    "        self.age = age\n",
    "    def description(self):\n",
    "        print (self.name)\n",
    "        print (self.age)\n",
    "hippo = Animal(\"Nil\",5)\n",
    "hippo.description()\n",
    "sloth = Animal(\"slothName\", 6)\n",
    "ocelot = Animal(\"ocelotName\",7)\n",
    "print (hippo.health)  # good\n",
    "print (sloth.health)  # good\n",
    "print (ocelot.health) # good\n",
    "#member variable = class variable (bukan instance, available to all inst)"
   ]
  },
  {
   "cell_type": "code",
   "execution_count": 32,
   "metadata": {},
   "outputs": [],
   "source": [
    "#BINGUNG\n",
    "class ShoppingCart(object):\n",
    "    \"\"\"Creates shopping cart objects\n",
    "    for users of our fine website.\"\"\"\n",
    "    items_in_cart = {}\n",
    "    def __init__(self, customer_name):\n",
    "        self.customer_name = customer_name\n",
    "    def add_item(self, product, price):\n",
    "        \"\"\"Add product to the cart.\"\"\"\n",
    "        if not product in self.items_in_cart:\n",
    "            self.items_in_cart[product] = price\n",
    "            print (product + \" added.\")\n",
    "        else:\n",
    "            print (product + \" is already in the cart.\")\n",
    "    def remove_item(self, product):\n",
    "        \"\"\"Remove product from the cart.\"\"\"\n",
    "        if product in self.items_in_cart:\n",
    "            del self.items_in_cart[product]\n",
    "            print (product + \" removed.\")\n",
    "        else:\n",
    "            print (product + \" is not in the cart.\")"
   ]
  },
  {
   "cell_type": "code",
   "execution_count": 31,
   "metadata": {},
   "outputs": [
    {
     "name": "stdout",
     "output_type": "stream",
     "text": [
      "Obeng added.\n",
      "Obeng is already in the cart.\n",
      "{'Obeng': 2000}\n",
      "Sapu added.\n",
      "Sapu is already in the cart.\n",
      "{'Obeng': 2000, 'Sapu': 2000}\n",
      "Sapu is already in the cart.\n",
      "{'Obeng': 2000, 'Sapu': 2000}\n",
      "{'Buku': 3000}\n",
      "{'Obeng': 2000, 'Sapu': 2000}\n",
      "Sapu added.\n",
      "{'Buku': 3000, 'Sapu': 1000}\n",
      "Dodol added.\n",
      "{'Obeng': 2000, 'Sapu': 2000, 'Dodol': 10000}\n",
      "{'Buku': 3000, 'Sapu': 1000}\n"
     ]
    }
   ],
   "source": [
    "my_cart1 = ShoppingCart(\"Otong\")\n",
    "my_cart2 = ShoppingCart(\"Udjang\")\n",
    "my_cart1.add_item(\"Obeng\",2000)  # Obeng added.\n",
    "my_cart1.add_item(\"Obeng\",1000)  # Obeng is already in the cart.\n",
    "print (my_cart1.items_in_cart)    # {'Obeng': 2000} \n",
    "my_cart2.add_item(\"Sapu\",2000)  # Sapu added.\n",
    "my_cart2.add_item(\"Sapu\",1000)  # Sapu is already in the cart.\n",
    "print (my_cart2.items_in_cart)    # {'Obeng': 2000, 'Sapu': 2000} \n",
    "my_cart1.add_item(\"Sapu\",5000)  # Sapu is already in the cart.\n",
    "print (my_cart1.items_in_cart)    # {'Obeng': 2000, 'Sapu': 2000}\n",
    "my_cart2.items_in_cart = {'Buku': 3000}\n",
    "print (my_cart2.items_in_cart)    # {'Buku': 3000}\n",
    "print (my_cart1.items_in_cart)    # {'Obeng': 2000, 'Sapu': 2000}\n",
    "my_cart2.add_item(\"Sapu\",1000)  # Sapu added.\n",
    "print (my_cart2.items_in_cart)    # {'Sapu': 1000, 'Buku': 3000}\n",
    "my_cart1.add_item(\"Dodol\",10000) # Dodol added.\n",
    "print (my_cart1.items_in_cart)     # {'Obeng': 2000, 'Sapu': 2000, 'Dodol': 10000}\n",
    "print (my_cart2.items_in_cart)     # {'Sapu': 1000, 'Buku': 3000}"
   ]
  },
  {
   "cell_type": "code",
   "execution_count": 33,
   "metadata": {},
   "outputs": [
    {
     "name": "stdout",
     "output_type": "stream",
     "text": [
      "I'm a string that stands in for the contents of your shopping cart!\n",
      "I'm a string that stands in for your order history!\n"
     ]
    }
   ],
   "source": [
    "#Inheritance\n",
    "class Customer(object):\n",
    "    \"\"\"Produces objects that represent customers.\"\"\"\n",
    "    def __init__(self, customer_id):\n",
    "        self.customer_id = customer_id\n",
    "    def display_cart(self):\n",
    "        print (\"I'm a string that stands in for the contents of your shopping cart!\")\n",
    "class ReturningCustomer(Customer):\n",
    "    \"\"\"For customers of the repeat variety.\"\"\"\n",
    "    def display_order_history(self):\n",
    "        print (\"I'm a string that stands in for your order history!\")\n",
    "monty_python = ReturningCustomer(\"ID: 12345\")\n",
    "monty_python.display_cart()           # Customer.display_cart\n",
    "monty_python.display_order_history()  # ReturningCustomer"
   ]
  },
  {
   "cell_type": "code",
   "execution_count": 34,
   "metadata": {},
   "outputs": [
    {
     "name": "stdout",
     "output_type": "stream",
     "text": [
      "1\n"
     ]
    }
   ],
   "source": [
    "class Shape(object):\n",
    "    \"\"\"Makes shapes!\"\"\"\n",
    "    def __init__(self, number_of_sides):\n",
    "        self.number_of_sides = number_of_sides\n",
    "class Triangle(Shape):\n",
    "    def __init__(self,side1,side2,side3):\n",
    "        self.side1 = side1\n",
    "        self.side2 = side2\n",
    "        self.side3 = side3\n",
    "# Override __init__\n",
    "segitiga2 = Triangle(1,2,3)\n",
    "print (segitiga2.side1)\n",
    "#print segitiga2.number_of_sides #super?"
   ]
  },
  {
   "cell_type": "code",
   "execution_count": 35,
   "metadata": {},
   "outputs": [
    {
     "name": "stdout",
     "output_type": "stream",
     "text": [
      "Hello, Emily\n",
      "Get back to work, Steve!\n"
     ]
    }
   ],
   "source": [
    "class Employee(object):\n",
    "    def __init__(self, name):\n",
    "        self.name = name\n",
    "    def greet(self, other):\n",
    "        print (\"Hello, %s\" % other.name)\n",
    "class CEO(Employee):\n",
    "    def greet(self, other):\n",
    "        print (\"Get back to work, %s!\" % other.name)\n",
    "ceo = CEO(\"Emily\")\n",
    "emp = Employee(\"Steve\")\n",
    "emp.greet(ceo) # Hello, Emily\n",
    "ceo.greet(emp) # Get back to work, Steve!"
   ]
  },
  {
   "cell_type": "code",
   "execution_count": 36,
   "metadata": {},
   "outputs": [
    {
     "name": "stdout",
     "output_type": "stream",
     "text": [
      "200.0\n"
     ]
    }
   ],
   "source": [
    "class Employee(object):\n",
    "    \"\"\"Models real-life employees!\"\"\"\n",
    "    def __init__(self, employee_name):\n",
    "        self.employee_name = employee_name\n",
    "    def calculate_wage(self, hours):\n",
    "        self.hours = hours\n",
    "        return hours * 20.00\n",
    "class PartTimeEmployee(Employee):\n",
    "    def calculate_wage(self,hours):\n",
    "        self.hours = hours\n",
    "        return hours * 12.00\n",
    "    def full_time_wage(self,hours):\n",
    "        return super(PartTimeEmployee,self).calculate_wage(hours)\n",
    "milton = PartTimeEmployee(\"Milton\")\n",
    "print (milton.full_time_wage(10))"
   ]
  },
  {
   "cell_type": "code",
   "execution_count": 37,
   "metadata": {},
   "outputs": [
    {
     "name": "stdout",
     "output_type": "stream",
     "text": [
      "3\n",
      "True\n"
     ]
    }
   ],
   "source": [
    "class Triangle(object):\n",
    "    number_of_sides = 3\n",
    "    def __init__(self, angle1, angle2, angle3):\n",
    "        self.angle1 = angle1\n",
    "        self.angle2 = angle2\n",
    "        self.angle3 = angle3\n",
    "    def check_angles(self):\n",
    "        sum_angle = self.angle1 + self.angle2 + self.angle3\n",
    "        if sum_angle == 180: return True\n",
    "        else: return False\n",
    "class Equilateral(Triangle):\n",
    "    angle = 60\n",
    "    def __init__(self):\n",
    "        self.angle1 = self.angle\n",
    "        self.angle2 = self.angle\n",
    "        self.angle3 = self.angle\n",
    "my_triangle = Triangle(90,30,60)\n",
    "print (my_triangle.number_of_sides) # 3 inherited\n",
    "print (my_triangle.check_angles())  # True"
   ]
  },
  {
   "cell_type": "code",
   "execution_count": 41,
   "metadata": {},
   "outputs": [
    {
     "ename": "SyntaxError",
     "evalue": "invalid syntax (<ipython-input-41-cf4529381fc2>, line 21)",
     "output_type": "error",
     "traceback": [
      "\u001b[1;36m  File \u001b[1;32m\"<ipython-input-41-cf4529381fc2>\"\u001b[1;36m, line \u001b[1;32m21\u001b[0m\n\u001b[1;33m    my_car1.drive_car()\u001b[0m\n\u001b[1;37m          ^\u001b[0m\n\u001b[1;31mSyntaxError\u001b[0m\u001b[1;31m:\u001b[0m invalid syntax\n"
     ]
    }
   ],
   "source": [
    "# BINGUNG\n",
    "class Car(object):\n",
    "    condition = \"new\"\n",
    "    def __init__(self, model, color, mpg):\n",
    "        self.model = model; self.color = color; self.mpg = mpg\n",
    "    def display_car(self):\n",
    "        return \"This is a %s %s with %s MPG.\" % (self.color, self.model, str(self.mpg))\n",
    "    def drive_car(self): self.condition = \"used\"\n",
    "class ElectricCar(Car):\n",
    "    def __init__(self,model,color,mpg,battery_type):\n",
    "        super(ElectricCar,self).__init__(model,color,mpg)\n",
    "        self.battery_type = battery_type\n",
    "    def drive_car(self): self.condition=\"like new\"\n",
    "my_car = ElectricCar(\"DeLorean\", \"silver\", 88, \"molten salt\")\n",
    "print (my_car.condition) # new \n",
    "my_car.drive_car()     # \n",
    "print (my_car.condition) # like new\n",
    "my_car1 = Car(\"DeLorean\", \"silver\", 88)\n",
    "print (my_car1.condition)      # new\n",
    "print (my_car1.model)          # DeLorean    \n",
    "print (my_car1.display_car()  # This is a silver DeLorean with 88 MPG.\n",
    "my_car1.drive_car()\n",
    "print (my_car1.condition)      # used"
   ]
  },
  {
   "cell_type": "code",
   "execution_count": 42,
   "metadata": {},
   "outputs": [
    {
     "name": "stdout",
     "output_type": "stream",
     "text": [
      "(1, 2, 3)\n"
     ]
    }
   ],
   "source": [
    "class Point3D(object):\n",
    "    def __init__(self,x,y,z):\n",
    "        self.x = x\n",
    "        self.y = y\n",
    "        self.z = z\n",
    "    def __repr__(self):\n",
    "        return \"(%d, %d, %d)\" % (self.x, self.y, self.z)\n",
    "my_point = Point3D(1,2,3)\n",
    "print (my_point) # (1, 2, 3)"
   ]
  },
  {
   "cell_type": "code",
   "execution_count": 43,
   "metadata": {},
   "outputs": [
    {
     "ename": "TypeError",
     "evalue": "'str' object is not callable",
     "output_type": "error",
     "traceback": [
      "\u001b[1;31m---------------------------------------------------------------------------\u001b[0m",
      "\u001b[1;31mTypeError\u001b[0m                                 Traceback (most recent call last)",
      "\u001b[1;32m<ipython-input-43-7d19a8f5408b>\u001b[0m in \u001b[0;36m<module>\u001b[1;34m\u001b[0m\n\u001b[0;32m      3\u001b[0m \u001b[0mmy_list\u001b[0m \u001b[1;33m=\u001b[0m \u001b[1;33m[\u001b[0m\u001b[0mi\u001b[0m\u001b[1;33m**\u001b[0m\u001b[1;36m2\u001b[0m \u001b[1;32mfor\u001b[0m \u001b[0mi\u001b[0m \u001b[1;32min\u001b[0m \u001b[0mrange\u001b[0m\u001b[1;33m(\u001b[0m\u001b[1;36m1\u001b[0m\u001b[1;33m,\u001b[0m\u001b[1;36m11\u001b[0m\u001b[1;33m)\u001b[0m\u001b[1;33m]\u001b[0m\u001b[1;33m\u001b[0m\u001b[1;33m\u001b[0m\u001b[0m\n\u001b[0;32m      4\u001b[0m \u001b[0mf\u001b[0m \u001b[1;33m=\u001b[0m \u001b[0mopen\u001b[0m\u001b[1;33m(\u001b[0m\u001b[1;34m\"output.txt\"\u001b[0m\u001b[1;33m,\u001b[0m \u001b[1;34m\"w\"\u001b[0m\u001b[1;33m)\u001b[0m\u001b[1;33m\u001b[0m\u001b[1;33m\u001b[0m\u001b[0m\n\u001b[1;32m----> 5\u001b[1;33m \u001b[1;32mfor\u001b[0m \u001b[0mitem\u001b[0m \u001b[1;32min\u001b[0m \u001b[0mmy_list\u001b[0m\u001b[1;33m:\u001b[0m \u001b[0mf\u001b[0m\u001b[1;33m.\u001b[0m\u001b[0mwrite\u001b[0m\u001b[1;33m(\u001b[0m\u001b[0mstr\u001b[0m\u001b[1;33m(\u001b[0m\u001b[0mitem\u001b[0m\u001b[1;33m)\u001b[0m \u001b[1;33m+\u001b[0m \u001b[1;34m\"\\n\"\u001b[0m\u001b[1;33m)\u001b[0m\u001b[1;33m\u001b[0m\u001b[1;33m\u001b[0m\u001b[0m\n\u001b[0m\u001b[0;32m      6\u001b[0m \u001b[0mf\u001b[0m\u001b[1;33m.\u001b[0m\u001b[0mclose\u001b[0m\u001b[1;33m(\u001b[0m\u001b[1;33m)\u001b[0m\u001b[1;33m\u001b[0m\u001b[1;33m\u001b[0m\u001b[0m\n\u001b[0;32m      7\u001b[0m \u001b[1;31m# This told Python to open output.txt in \"w\" mode (\"w\" stands for \"write\").\u001b[0m\u001b[1;33m\u001b[0m\u001b[1;33m\u001b[0m\u001b[1;33m\u001b[0m\u001b[0m\n",
      "\u001b[1;31mTypeError\u001b[0m: 'str' object is not callable"
     ]
    }
   ],
   "source": [
    "# BINGUNG\n",
    "\n",
    "# FILE INPUT AND OUTPUT\n",
    "# WRITE\n",
    "\n",
    "# Generates a list of squares of the numbers 1 - 10\n",
    "my_list = [i**2 for i in range(1,11)]\n",
    "f = open(\"output.txt\", \"w\")\n",
    "for item in my_list: f.write(str(item) + \"\\n\")\n",
    "f.close()\n",
    "# This told Python to open output.txt in \"w\" mode (\"w\" stands for \"write\"). \n",
    "# We stored the result of this operation in a file object, f."
   ]
  },
  {
   "cell_type": "code",
   "execution_count": 44,
   "metadata": {},
   "outputs": [
    {
     "ename": "TypeError",
     "evalue": "'str' object is not callable",
     "output_type": "error",
     "traceback": [
      "\u001b[1;31m---------------------------------------------------------------------------\u001b[0m",
      "\u001b[1;31mTypeError\u001b[0m                                 Traceback (most recent call last)",
      "\u001b[1;32m<ipython-input-44-f1e71410bf70>\u001b[0m in \u001b[0;36m<module>\u001b[1;34m\u001b[0m\n\u001b[0;32m      1\u001b[0m \u001b[0mmy_list\u001b[0m \u001b[1;33m=\u001b[0m \u001b[1;33m[\u001b[0m\u001b[0mi\u001b[0m\u001b[1;33m**\u001b[0m\u001b[1;36m2\u001b[0m \u001b[1;32mfor\u001b[0m \u001b[0mi\u001b[0m \u001b[1;32min\u001b[0m \u001b[0mrange\u001b[0m\u001b[1;33m(\u001b[0m\u001b[1;36m1\u001b[0m\u001b[1;33m,\u001b[0m\u001b[1;36m11\u001b[0m\u001b[1;33m)\u001b[0m\u001b[1;33m]\u001b[0m\u001b[1;33m\u001b[0m\u001b[1;33m\u001b[0m\u001b[0m\n\u001b[0;32m      2\u001b[0m \u001b[0mmy_file\u001b[0m \u001b[1;33m=\u001b[0m \u001b[0mopen\u001b[0m\u001b[1;33m(\u001b[0m\u001b[1;34m\"output.txt\"\u001b[0m\u001b[1;33m,\u001b[0m \u001b[1;34m\"r+\"\u001b[0m\u001b[1;33m)\u001b[0m\u001b[1;33m\u001b[0m\u001b[1;33m\u001b[0m\u001b[0m\n\u001b[1;32m----> 3\u001b[1;33m \u001b[1;32mfor\u001b[0m \u001b[0mi\u001b[0m \u001b[1;32min\u001b[0m \u001b[0mmy_list\u001b[0m\u001b[1;33m:\u001b[0m \u001b[0mmy_file\u001b[0m\u001b[1;33m.\u001b[0m\u001b[0mwrite\u001b[0m\u001b[1;33m(\u001b[0m\u001b[0mstr\u001b[0m\u001b[1;33m(\u001b[0m\u001b[0mi\u001b[0m\u001b[1;33m)\u001b[0m \u001b[1;33m+\u001b[0m \u001b[1;34m\"\\n\"\u001b[0m\u001b[1;33m)\u001b[0m\u001b[1;33m\u001b[0m\u001b[1;33m\u001b[0m\u001b[0m\n\u001b[0m\u001b[0;32m      4\u001b[0m \u001b[0mmy_file\u001b[0m\u001b[1;33m.\u001b[0m\u001b[0mclose\u001b[0m\u001b[1;33m(\u001b[0m\u001b[1;33m)\u001b[0m\u001b[1;33m\u001b[0m\u001b[1;33m\u001b[0m\u001b[0m\n\u001b[0;32m      5\u001b[0m \u001b[1;31m# \"r+\" as a second argument to the function so the\u001b[0m\u001b[1;33m\u001b[0m\u001b[1;33m\u001b[0m\u001b[1;33m\u001b[0m\u001b[0m\n",
      "\u001b[1;31mTypeError\u001b[0m: 'str' object is not callable"
     ]
    }
   ],
   "source": [
    "my_list = [i**2 for i in range(1,11)]\n",
    "my_file = open(\"output.txt\", \"r+\")\n",
    "for i in my_list: my_file.write(str(i) + \"\\n\")\n",
    "my_file.close()\n",
    "# \"r+\" as a second argument to the function so the \n",
    "# file will allow you to read and write"
   ]
  },
  {
   "cell_type": "code",
   "execution_count": 45,
   "metadata": {},
   "outputs": [
    {
     "name": "stdout",
     "output_type": "stream",
     "text": [
      "\n"
     ]
    },
    {
     "ename": "FileNotFoundError",
     "evalue": "[Errno 2] No such file or directory: 'text.txt'",
     "output_type": "error",
     "traceback": [
      "\u001b[1;31m---------------------------------------------------------------------------\u001b[0m",
      "\u001b[1;31mFileNotFoundError\u001b[0m                         Traceback (most recent call last)",
      "\u001b[1;32m<ipython-input-45-3a1c5cc1cbf5>\u001b[0m in \u001b[0;36m<module>\u001b[1;34m\u001b[0m\n\u001b[0;32m      6\u001b[0m \u001b[1;31m# if we want to read from a file line by line,\u001b[0m\u001b[1;33m\u001b[0m\u001b[1;33m\u001b[0m\u001b[1;33m\u001b[0m\u001b[0m\n\u001b[0;32m      7\u001b[0m \u001b[1;31m# rather than pulling the entire file in at once.\u001b[0m\u001b[1;33m\u001b[0m\u001b[1;33m\u001b[0m\u001b[1;33m\u001b[0m\u001b[0m\n\u001b[1;32m----> 8\u001b[1;33m \u001b[0mmy_file\u001b[0m \u001b[1;33m=\u001b[0m \u001b[0mopen\u001b[0m\u001b[1;33m(\u001b[0m\u001b[1;34m\"text.txt\"\u001b[0m\u001b[1;33m,\u001b[0m\u001b[1;34m\"r\"\u001b[0m\u001b[1;33m)\u001b[0m\u001b[1;33m\u001b[0m\u001b[1;33m\u001b[0m\u001b[0m\n\u001b[0m\u001b[0;32m      9\u001b[0m \u001b[0mprint\u001b[0m \u001b[1;33m(\u001b[0m\u001b[0mmy_file\u001b[0m\u001b[1;33m.\u001b[0m\u001b[0mreadline\u001b[0m\u001b[1;33m(\u001b[0m\u001b[1;33m)\u001b[0m\u001b[1;33m)\u001b[0m\u001b[1;33m\u001b[0m\u001b[1;33m\u001b[0m\u001b[0m\n\u001b[0;32m     10\u001b[0m \u001b[0mprint\u001b[0m \u001b[1;33m(\u001b[0m\u001b[0mmy_file\u001b[0m\u001b[1;33m.\u001b[0m\u001b[0mreadline\u001b[0m\u001b[1;33m(\u001b[0m\u001b[1;33m)\u001b[0m\u001b[1;33m)\u001b[0m\u001b[1;33m\u001b[0m\u001b[1;33m\u001b[0m\u001b[0m\n",
      "\u001b[1;31mFileNotFoundError\u001b[0m: [Errno 2] No such file or directory: 'text.txt'"
     ]
    }
   ],
   "source": [
    "# READ\n",
    "my_file = open(\"output.txt\",\"r\")\n",
    "print (my_file.read())\n",
    "my_file.close()\n",
    "# ---\n",
    "# if we want to read from a file line by line, \n",
    "# rather than pulling the entire file in at once. \n",
    "my_file = open(\"text.txt\",\"r\")\n",
    "print (my_file.readline())\n",
    "print (my_file.readline())\n",
    "print (my_file.readline())\n",
    "my_file.close()"
   ]
  },
  {
   "cell_type": "code",
   "execution_count": 46,
   "metadata": {},
   "outputs": [
    {
     "ename": "FileNotFoundError",
     "evalue": "[Errno 2] No such file or directory: 'text.txt'",
     "output_type": "error",
     "traceback": [
      "\u001b[1;31m---------------------------------------------------------------------------\u001b[0m",
      "\u001b[1;31mFileNotFoundError\u001b[0m                         Traceback (most recent call last)",
      "\u001b[1;32m<ipython-input-46-4ee2c52bf6b3>\u001b[0m in \u001b[0;36m<module>\u001b[1;34m\u001b[0m\n\u001b[0;32m      1\u001b[0m \u001b[1;31m# Open the file for reading\u001b[0m\u001b[1;33m\u001b[0m\u001b[1;33m\u001b[0m\u001b[1;33m\u001b[0m\u001b[0m\n\u001b[1;32m----> 2\u001b[1;33m \u001b[0mread_file\u001b[0m \u001b[1;33m=\u001b[0m \u001b[0mopen\u001b[0m\u001b[1;33m(\u001b[0m\u001b[1;34m\"text.txt\"\u001b[0m\u001b[1;33m,\u001b[0m \u001b[1;34m\"r\"\u001b[0m\u001b[1;33m)\u001b[0m\u001b[1;33m\u001b[0m\u001b[1;33m\u001b[0m\u001b[0m\n\u001b[0m\u001b[0;32m      3\u001b[0m \u001b[1;31m# Use a second file handler to open the file for writing\u001b[0m\u001b[1;33m\u001b[0m\u001b[1;33m\u001b[0m\u001b[1;33m\u001b[0m\u001b[0m\n\u001b[0;32m      4\u001b[0m \u001b[0mwrite_file\u001b[0m \u001b[1;33m=\u001b[0m \u001b[0mopen\u001b[0m\u001b[1;33m(\u001b[0m\u001b[1;34m\"text.txt\"\u001b[0m\u001b[1;33m,\u001b[0m \u001b[1;34m\"w\"\u001b[0m\u001b[1;33m)\u001b[0m\u001b[1;33m\u001b[0m\u001b[1;33m\u001b[0m\u001b[0m\n\u001b[0;32m      5\u001b[0m \u001b[1;31m# Write to the file\u001b[0m\u001b[1;33m\u001b[0m\u001b[1;33m\u001b[0m\u001b[1;33m\u001b[0m\u001b[0m\n",
      "\u001b[1;31mFileNotFoundError\u001b[0m: [Errno 2] No such file or directory: 'text.txt'"
     ]
    }
   ],
   "source": [
    "# Open the file for reading\n",
    "read_file = open(\"text.txt\", \"r\")\n",
    "# Use a second file handler to open the file for writing\n",
    "write_file = open(\"text.txt\", \"w\")\n",
    "# Write to the file\n",
    "write_file.write(\"Not closing files is VERY BAD.\")\n",
    "write_file.close()\n",
    "# Try to read from the file\n",
    "print (read_file.read())\n",
    "read_file.close()"
   ]
  },
  {
   "cell_type": "code",
   "execution_count": 48,
   "metadata": {},
   "outputs": [
    {
     "ename": "FileNotFoundError",
     "evalue": "[Errno 2] No such file or directory: 'bg.txt'",
     "output_type": "error",
     "traceback": [
      "\u001b[1;31m---------------------------------------------------------------------------\u001b[0m",
      "\u001b[1;31mFileNotFoundError\u001b[0m                         Traceback (most recent call last)",
      "\u001b[1;32m<ipython-input-48-a4b665181af2>\u001b[0m in \u001b[0;36m<module>\u001b[1;34m\u001b[0m\n\u001b[0;32m      3\u001b[0m \u001b[1;31m# gak perlu close, close automatically\u001b[0m\u001b[1;33m\u001b[0m\u001b[1;33m\u001b[0m\u001b[1;33m\u001b[0m\u001b[0m\n\u001b[0;32m      4\u001b[0m \u001b[1;31m# ---------------------------------------------------------\u001b[0m\u001b[1;33m\u001b[0m\u001b[1;33m\u001b[0m\u001b[1;33m\u001b[0m\u001b[0m\n\u001b[1;32m----> 5\u001b[1;33m \u001b[0mf\u001b[0m \u001b[1;33m=\u001b[0m \u001b[0mopen\u001b[0m\u001b[1;33m(\u001b[0m\u001b[1;34m\"bg.txt\"\u001b[0m\u001b[1;33m)\u001b[0m\u001b[1;33m\u001b[0m\u001b[1;33m\u001b[0m\u001b[0m\n\u001b[0m\u001b[0;32m      6\u001b[0m \u001b[0mf\u001b[0m\u001b[1;33m.\u001b[0m\u001b[0mclosed\u001b[0m  \u001b[1;31m# False\u001b[0m\u001b[1;33m\u001b[0m\u001b[1;33m\u001b[0m\u001b[0m\n\u001b[0;32m      7\u001b[0m \u001b[0mf\u001b[0m\u001b[1;33m.\u001b[0m\u001b[0mclose\u001b[0m\u001b[1;33m(\u001b[0m\u001b[1;33m)\u001b[0m\u001b[1;33m\u001b[0m\u001b[1;33m\u001b[0m\u001b[0m\n",
      "\u001b[1;31mFileNotFoundError\u001b[0m: [Errno 2] No such file or directory: 'bg.txt'"
     ]
    }
   ],
   "source": [
    "with open(\"text.txt\", \"w\") as textfile:\n",
    "    textfile.write(\"Success!\")\n",
    "# gak perlu close, close automatically\n",
    "# ---------------------------------------------------------\n",
    "f = open(\"bg.txt\")\n",
    "f.closed  # False\n",
    "f.close()\n",
    "f.closed  # True\n",
    "# ---------------------------------------------------------\n",
    "with open(\"text.txt\",\"w\") as my_file:\n",
    "    my_file.write(\"otong\");\n",
    "if my_file.closed == False: my_file.close()\n",
    "print (my_file.closed)"
   ]
  },
  {
   "cell_type": "code",
   "execution_count": null,
   "metadata": {},
   "outputs": [],
   "source": []
  }
 ],
 "metadata": {
  "kernelspec": {
   "display_name": "Python 3",
   "language": "python",
   "name": "python3"
  },
  "language_info": {
   "codemirror_mode": {
    "name": "ipython",
    "version": 3
   },
   "file_extension": ".py",
   "mimetype": "text/x-python",
   "name": "python",
   "nbconvert_exporter": "python",
   "pygments_lexer": "ipython3",
   "version": "3.7.3"
  }
 },
 "nbformat": 4,
 "nbformat_minor": 2
}
