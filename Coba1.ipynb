{
 "cells": [
  {
   "cell_type": "code",
   "execution_count": 5,
   "metadata": {},
   "outputs": [
    {
     "name": "stdout",
     "output_type": "stream",
     "text": [
      "Welcome to Python!\n",
      "3\n"
     ]
    }
   ],
   "source": [
    "# Python Syntax\n",
    "print (\"Welcome to Python!\")\n",
    "my_variable = 10\n",
    "\n",
    "my_int = 7\n",
    "my_float = 1.23\n",
    "my_bool = True\n",
    "\n",
    "# change value\n",
    "my_int = 7\n",
    "my_int = 3\n",
    "print (my_int)"
   ]
  },
  {
   "cell_type": "code",
   "execution_count": 3,
   "metadata": {},
   "outputs": [
    {
     "name": "stdout",
     "output_type": "stream",
     "text": [
      "<function spam at 0x0000015A0EA83598>\n",
      "<function spam at 0x0000015A0EA83268>\n"
     ]
    }
   ],
   "source": [
    "# SUMPAH INI BINGUNG\n",
    "#UDAH SOLVED\n",
    "\n",
    "# first\n",
    "def spam():\n",
    "    eggs = 12\n",
    "    return spam()\n",
    "\n",
    "print (spam)\n",
    "\n",
    "# second\n",
    "def spam():\n",
    "    eggs = 12\n",
    "    return spam()\n",
    "\n",
    "print (spam)"
   ]
  },
  {
   "cell_type": "code",
   "execution_count": 22,
   "metadata": {},
   "outputs": [
    {
     "name": "stdout",
     "output_type": "stream",
     "text": [
      "11000.6\n",
      "100\n",
      "1\n"
     ]
    }
   ],
   "source": [
    "# single line comment\n",
    "\"\"\"test\n",
    "multi lines comment\n",
    "\"\"\"\n",
    "\n",
    "addition = 72 + 23\n",
    "subtraction = 108 - 204\n",
    "multiplication = 108 * 0.5\n",
    "division = 108 / 9\n",
    "\n",
    "# addition\n",
    "count_to = 5000 + 6000.6\n",
    "print (count_to)\n",
    "\n",
    "# square, exponentiation, to the power of\n",
    "eggs = 10**2\n",
    "print (eggs)\n",
    "\n",
    "# modulo\n",
    "spam = 5 % 4\n",
    "print (spam)\n",
    "# 1, modulo"
   ]
  },
  {
   "cell_type": "code",
   "execution_count": 27,
   "metadata": {},
   "outputs": [],
   "source": [
    "# comment\n",
    "monty = True\n",
    "python = 1.234\n",
    "monty_python = python ** 2"
   ]
  },
  {
   "cell_type": "code",
   "execution_count": 28,
   "metadata": {},
   "outputs": [
    {
     "name": "stdout",
     "output_type": "stream",
     "text": [
      "54.63\n"
     ]
    }
   ],
   "source": [
    "# tip calculator\n",
    "meal = 44.50\n",
    "\n",
    "# 6.75%\n",
    "tax = 0.0675\n",
    "\n",
    "# 15%\n",
    "tip = 0.15\n",
    "\n",
    "meal = meal + meal * tax\n",
    "total = meal + meal * tip\n",
    "\n",
    "print(\"%.2f\" % total)"
   ]
  },
  {
   "cell_type": "code",
   "execution_count": 30,
   "metadata": {},
   "outputs": [
    {
     "name": "stdout",
     "output_type": "stream",
     "text": [
      "Graham\n",
      "This isn't flying, this is falling with style!\n",
      "Y\n"
     ]
    }
   ],
   "source": [
    "# String and Console Output\n",
    "\n",
    "caesar = \"Graham\"\n",
    "print (caesar)\n",
    "\n",
    "# Escaping characters\n",
    "abc = 'This isn\\'t flying, this is falling with style!'\n",
    "print (abc)\n",
    "\n",
    "\"\"\"\n",
    "The string \"PYTHON\" has six characters,\n",
    "numbered 0 to 5, as shown below:\n",
    "+---+---+---+---+---+---+\n",
    "| P | Y | T | H | O | N |\n",
    "+---+---+---+---+---+---+\n",
    "  0   1   2   3   4   5\n",
    "  \n",
    "So if you wanted \"Y\", you could just type\n",
    "\"PYTHON\"[1] (always start counting from 0!)\n",
    "\"\"\"\n",
    "\n",
    "fifth_letter = \"MONTY\"[4]\n",
    "print (fifth_letter)\n",
    "# Y"
   ]
  },
  {
   "cell_type": "code",
   "execution_count": 34,
   "metadata": {},
   "outputs": [
    {
     "name": "stdout",
     "output_type": "stream",
     "text": [
      "14\n",
      "norwegian blue\n",
      "NORWEGIAN BLUE\n",
      "3.14\n",
      "27\n",
      "THE MINISTRY OF SILLY WALKS\n"
     ]
    }
   ],
   "source": [
    "parrot = \"Norwegian Blue\"\n",
    "print (len(parrot))\n",
    "#14\n",
    "\n",
    "# String methods: len(), lower(), upper(), str()\n",
    "\n",
    "parrot = \"Norwegian Blue\"\n",
    "print (parrot.lower())\n",
    "print (parrot.upper())\n",
    "\n",
    "# to string\n",
    "pi=3.14\n",
    "print (str(pi))\n",
    "\n",
    "# review\n",
    "ministry = \"The Ministry of Silly Walks\"\n",
    "print (len(ministry))\n",
    "print (ministry.upper())"
   ]
  },
  {
   "cell_type": "code",
   "execution_count": 42,
   "metadata": {},
   "outputs": [
    {
     "name": "stdout",
     "output_type": "stream",
     "text": [
      "Spam and eggs\n",
      "The value of pi is around 3.14\n",
      "Let's not go to Camelot. 'Tis a silly place.\n",
      "Hello Mike\n",
      "What is your name?Sabila\n",
      "What is your quest?Gatau\n",
      "What is your favorite color?Blue\n",
      "Ah, so your name is Sabila, your quest is Gatau, and your favorite color is Blue.\n"
     ]
    }
   ],
   "source": [
    "# to string, printing variables, string concatenation\n",
    "print (\"Spam \" + \"and \" + \"eggs\")\n",
    "# print (\"The value of pi is around \" + 3.14) gabisa gabungin string sama float\n",
    "# error\n",
    "print (\"The value of pi is around \" + str(3.14))\n",
    "\n",
    "string_1 = \"Camelot\"\n",
    "string_2 = \"place\"\n",
    "print (\"Let's not go to %s. 'Tis a silly %s.\" % (string_1, string_2))\n",
    "\n",
    "# string formatting\n",
    "name = \"Mike\"\n",
    "print (\"Hello %s\" % (name))\n",
    "\n",
    "# string formatting, tanda %s dan %\n",
    "# fungsi raw_input (input dari keyboard pas runtime)\n",
    "name = input(\"What is your name?\")\n",
    "quest = input(\"What is your quest?\")\n",
    "color = input(\"What is your favorite color?\")\n",
    "\n",
    "print (\"Ah, so your name is %s, your quest is %s, \" \\\n",
    "\"and your favorite color is %s.\" % (name, quest, color))"
   ]
  },
  {
   "cell_type": "code",
   "execution_count": 43,
   "metadata": {},
   "outputs": [
    {
     "name": "stdout",
     "output_type": "stream",
     "text": [
      "2019-09-08 21:06:36.319864\n",
      "2019\n",
      "9\n",
      "8\n",
      "2019-9-8\n",
      "8/9/2019\n",
      "21\n",
      "6\n",
      "36\n",
      "21:6:36\n",
      "8/9/2019 21:6:36\n"
     ]
    }
   ],
   "source": [
    "# Date and Time\n",
    "\n",
    "from datetime import datetime\n",
    "now = datetime.now()\n",
    "print (now)\n",
    "\n",
    "# member, bukan method\n",
    "print (now.year)\n",
    "print (now.month)\n",
    "print (now.day)\n",
    "\n",
    "print ('%s-%s-%s' % (now.year, now.month, now.day))\n",
    "print ('%s/%s/%s' % (now.day, now.month, now.year))\n",
    "\n",
    "print (now.hour)\n",
    "print (now.minute)\n",
    "print (now.second)\n",
    "\n",
    "print ('%s:%s:%s' % (now.hour, now.minute, now.second))\n",
    "print ('%s/%s/%s %s:%s:%s' % (now.day, now.month, now.year,now.hour, now.minute, now.second))"
   ]
  },
  {
   "cell_type": "code",
   "execution_count": 47,
   "metadata": {},
   "outputs": [
    {
     "name": "stdout",
     "output_type": "stream",
     "text": [
      "You've just entered the clinic!\n",
      "Do you take the door on the left or the right?\n",
      "Type left or right and hit 'Enter'.right\n",
      "Of course this is the Argument Room, I've told you that already!\n"
     ]
    }
   ],
   "source": [
    "# Conditional and Control Flow\n",
    "\n",
    "# raw_input\n",
    "def clinic():\n",
    "    print (\"You've just entered the clinic!\")\n",
    "    print (\"Do you take the door on the left or the right?\")\n",
    "    answer = input(\"Type left or right and hit 'Enter'.\").lower()\n",
    "    if answer == \"left\" or answer == \"l\":\n",
    "        print (\"This is the Verbal Abuse Room, you heap of parrot droppings!\")\n",
    "    elif answer == \"right\" or answer == \"r\":\n",
    "        print (\"Of course this is the Argument Room, I've told you that already!\")\n",
    "    else:\n",
    "        print (\"You didn't pick left or right! Try again.\")\n",
    "        clinic()\n",
    "clinic()"
   ]
  },
  {
   "cell_type": "code",
   "execution_count": 48,
   "metadata": {},
   "outputs": [],
   "source": [
    "#Boolean Comparisons\n",
    "\n",
    "bool_one = True    # 17 < 328    \n",
    "bool_two = True    # 100 == (2 * 50)\n",
    "bool_three = True  # 19 <= 19 \n",
    "bool_four = False  # -22 >= -18 \n",
    "bool_five = False  # 99 != (98 + 1)\n",
    "\n",
    "bool_one = False   # (20 - 10) > 15\n",
    "bool_two = False   # (10 + 17) == 3**16\n",
    "bool_three = False # 1**2 <= -1\n",
    "bool_four = True   # 40 * 4 >= -4\n",
    "bool_five = False  # 100 != 10**2\n",
    "\n",
    "# -----\n",
    "\n",
    "bool_one = 3 < 5     # True\n",
    "bool_two = 3 > 5     # False\n",
    "bool_three = 5 == 5  # True\n",
    "bool_four = 3 != 3   # False\n",
    "bool_five = 3 <= 3   # True"
   ]
  },
  {
   "cell_type": "code",
   "execution_count": 49,
   "metadata": {},
   "outputs": [],
   "source": [
    "# Operators : and,or\n",
    "bool_one   = False and False\n",
    "bool_two   = -(-(-(-2))) == -2 and 4 >= 16**0.5\n",
    "bool_three = 19 % 4 != 300 / 10 / 10 and False\n",
    "bool_four  = -(1**2) < 2**0 and 10 % 10 <= 20 - 10 * 2\n",
    "bool_five  = True and True\n",
    "# -----\n",
    "bool_one   = 2**3 == 108 % 100 or 'Cleese' == 'King Arthur'\n",
    "bool_two   = True or False\n",
    "bool_three = 100**0.5 >= 50 or False\n",
    "bool_four  = True or True\n",
    "bool_five  = 1**100 == 100**1 or 3 * 2 * 1 != 3 + 2 + 1"
   ]
  },
  {
   "cell_type": "code",
   "execution_count": 50,
   "metadata": {},
   "outputs": [],
   "source": [
    "#Operators : not\n",
    "bool_one   = not True\n",
    "bool_two   = not 3**4 < 4**3\n",
    "bool_three = not 10 % 3 <= 10 % 2\n",
    "bool_four  = not 3**2 + 4**2 != 5**2\n",
    "bool_five  = not not False\n",
    "#-----\n",
    "bool_one   = False or not True and True\n",
    "bool_two   = False and not True or True\n",
    "bool_three = True and not (False or False)\n",
    "bool_four  = not not True or False and not True\n",
    "bool_five  = False or not (True and True)\n",
    "#-----\n",
    "# not first, berikutnya and,or -- sama prioritas, kl not not sama dengan not (not )\n",
    "bool_one = (2 <= 2) and \"Alpha\" == \"Bravo\""
   ]
  },
  {
   "cell_type": "code",
   "execution_count": 56,
   "metadata": {},
   "outputs": [
    {
     "name": "stdout",
     "output_type": "stream",
     "text": [
      "This is the Verbal Abuse Room, you heap of parrot droppings!\n",
      "Success #1\n",
      "Success #2\n"
     ]
    }
   ],
   "source": [
    "answer = \"Left\"\n",
    "if answer == \"Left\":\n",
    "    print (\"This is the Verbal Abuse Room, you heap of parrot droppings!\")\n",
    "\n",
    "# Will the above print statement print to the console?\n",
    "\n",
    "# ---\n",
    "def using_control_once():\n",
    "    if True:\n",
    "        return \"Success #1\"\n",
    "\n",
    "def using_control_again():\n",
    "    if True:\n",
    "        return \"Success #2\"\n",
    "\n",
    "print (using_control_once())\n",
    "print (using_control_again())"
   ]
  },
  {
   "cell_type": "code",
   "execution_count": 58,
   "metadata": {},
   "outputs": [],
   "source": [
    "# condition\n",
    "answer = \"'Tis but a scratch!\"\n",
    "\n",
    "def black_knight():\n",
    "    if answer == \"'Tis but a scratch!\":\n",
    "        return True\n",
    "    else:             \n",
    "        return False       # Make sure this returns False\n",
    "\n",
    "def french_soldier():\n",
    "    if answer == \"Go away, or I shall taunt you a second time!\":\n",
    "        return True\n",
    "    else:             \n",
    "        return False       # Make sure this returns False"
   ]
  },
  {
   "cell_type": "code",
   "execution_count": 60,
   "metadata": {},
   "outputs": [
    {
     "name": "stdout",
     "output_type": "stream",
     "text": [
      "-1\n",
      "0\n",
      "1\n"
     ]
    }
   ],
   "source": [
    "# condition\n",
    "def greater_less_equal_5(answer):\n",
    "    if answer > 5:\n",
    "        return 1\n",
    "    elif answer < 5:          \n",
    "        return -1\n",
    "    else:\n",
    "        return 0\n",
    "    \n",
    "print (greater_less_equal_5(4))\n",
    "print (greater_less_equal_5(5))\n",
    "print (greater_less_equal_5(6))\n",
    "\n",
    "# review\n",
    "def the_flying_circus():\n",
    "    if 5 == 5:    # Start coding here!\n",
    "        # Don't forget to indent\n",
    "        # the code inside this block!\n",
    "        return True\n",
    "    elif True and True :\n",
    "        # Keep going here.\n",
    "        # You'll want to add the else statement, too!\n",
    "        return False\n",
    "    else :\n",
    "        return False"
   ]
  },
  {
   "cell_type": "code",
   "execution_count": 62,
   "metadata": {},
   "outputs": [
    {
     "name": "stdout",
     "output_type": "stream",
     "text": [
      "Welcome to the Pig Latin Translator!\n",
      "Enter a word:halo\n",
      "halo\n"
     ]
    }
   ],
   "source": [
    "# PygLatin\n",
    "\n",
    "print ('Welcome to the Pig Latin Translator!')\n",
    "\n",
    "original = input(\"Enter a word:\")\n",
    "\n",
    "if len(original) > 0 and original.isalpha():\n",
    "    print (original)\n",
    "else:\n",
    "    print (\"empty\")"
   ]
  },
  {
   "cell_type": "code",
   "execution_count": 78,
   "metadata": {},
   "outputs": [
    {
     "name": "stdout",
     "output_type": "stream",
     "text": [
      "Enter a word:halo\n",
      "alohay\n"
     ]
    }
   ],
   "source": [
    "pyg = 'ay'\n",
    "original = input('Enter a word:')\n",
    "if len(original) > 0 and original.isalpha():\n",
    "    word = original.lower()\n",
    "    first = word[0]\n",
    "    new_word = word + first + pyg\n",
    "    new_word = new_word[1:len(new_word)] \n",
    "    print (new_word)\n",
    "else:\n",
    "    print ('empty')"
   ]
  },
  {
   "cell_type": "code",
   "execution_count": 64,
   "metadata": {},
   "outputs": [
    {
     "name": "stdout",
     "output_type": "stream",
     "text": [
      "With tax: 108.000000\n",
      "With tip: 124.200000\n"
     ]
    }
   ],
   "source": [
    "# Functions\n",
    "\n",
    "def tax(bill):\n",
    "    \"\"\"Adds 8% tax to a restaurant bill.\"\"\"\n",
    "    bill *= 1.08\n",
    "    print (\"With tax: %f\" % bill)\n",
    "    return bill\n",
    "\n",
    "def tip(bill):\n",
    "    \"\"\"Adds 15% tip to a restaurant bill.\"\"\"\n",
    "    bill *= 1.15\n",
    "    print (\"With tip: %f\" % bill)\n",
    "    return bill\n",
    "\n",
    "meal_cost = 100\n",
    "meal_with_tax = tax(meal_cost)\n",
    "meal_with_tip = tip(meal_with_tax)"
   ]
  },
  {
   "cell_type": "code",
   "execution_count": 65,
   "metadata": {},
   "outputs": [
    {
     "name": "stdout",
     "output_type": "stream",
     "text": [
      "10 squared is 100.\n",
      "37 to the power of 4 is 1874161.\n"
     ]
    }
   ],
   "source": [
    "def square(n):\n",
    "    squared = n**2\n",
    "    print (\"%d squared is %d.\" % (n, squared))\n",
    "    return squared\n",
    "\n",
    "square(10)\n",
    "\n",
    "# ---\n",
    "\n",
    "def power(base, exponent):  # Add your parameters here!\n",
    "    result = base**exponent\n",
    "    print (\"%d to the power of %d is %d.\" % (base, exponent, result))\n",
    "    \n",
    "power(37,4)  # Add your arguments here!"
   ]
  },
  {
   "cell_type": "code",
   "execution_count": 66,
   "metadata": {},
   "outputs": [],
   "source": [
    "# Functions call functions\n",
    "def one_good_turn(n):\n",
    "    return n + 1\n",
    "\n",
    "def deserves_another(n):\n",
    "    return one_good_turn(n) + 2\n",
    "\n",
    "# ---\n",
    "\n",
    "def shout(phrase):\n",
    "    if phrase == phrase.upper():\n",
    "        return \"YOU'RE SHOUTING!\"\n",
    "    else:\n",
    "        return \"Can you speak up?\"\n",
    "\n",
    "    shout(\"I'M INTERESTED IN SHOUTING\")\n",
    "\n",
    "# ---\n",
    "\n",
    "def cube(number):\n",
    "    return number**3\n",
    "\n",
    "def by_three(number):\n",
    "    if number % 3 == 0:\n",
    "        return cube(number)\n",
    "    else:\n",
    "        return False"
   ]
  },
  {
   "cell_type": "code",
   "execution_count": 68,
   "metadata": {},
   "outputs": [
    {
     "name": "stdout",
     "output_type": "stream",
     "text": [
      "5.0\n",
      "5.0\n",
      "5.0\n",
      "['__doc__', '__loader__', '__name__', '__package__', '__spec__', 'acos', 'acosh', 'asin', 'asinh', 'atan', 'atan2', 'atanh', 'ceil', 'copysign', 'cos', 'cosh', 'degrees', 'e', 'erf', 'erfc', 'exp', 'expm1', 'fabs', 'factorial', 'floor', 'fmod', 'frexp', 'fsum', 'gamma', 'gcd', 'hypot', 'inf', 'isclose', 'isfinite', 'isinf', 'isnan', 'ldexp', 'lgamma', 'log', 'log10', 'log1p', 'log2', 'modf', 'nan', 'pi', 'pow', 'radians', 'remainder', 'sin', 'sinh', 'sqrt', 'tan', 'tanh', 'tau', 'trunc']\n"
     ]
    },
    {
     "data": {
      "text/plain": [
       "\"\\n['__doc__', '__name__', '__package__', 'acos', 'acosh', 'asin', 'asinh', 'atan', 'atan2', 'atanh', 'ceil', 'copysign', 'cos', 'cosh', 'degrees', 'e', 'erf', 'erfc', 'exp', 'expm1', 'fabs', 'factorial', 'floor', 'fmod', 'frexp', 'fsum', 'gamma', 'hypot', 'isinf', 'isnan', 'ldexp', 'lgamma', 'log', 'log10', 'log1p', 'modf', 'pi', 'pow', 'radians', 'sin', 'sinh', 'sqrt', 'tan', 'tanh', 'trunc']\\n\""
      ]
     },
     "execution_count": 68,
     "metadata": {},
     "output_type": "execute_result"
    }
   ],
   "source": [
    "# 1\n",
    "import math\n",
    "print (math.sqrt(25))\n",
    "\n",
    "# 2\n",
    "from math import sqrt\n",
    "print (sqrt(25))\n",
    "\n",
    "from math import *\n",
    "print (sqrt(25))\n",
    "\n",
    "# 3\n",
    "import math            \n",
    "everything = dir(math) # Sets everything to a list of things from math\n",
    "print (everything)       # Prints 'em all!\n",
    "\n",
    "\"\"\"\n",
    "['__doc__', '__name__', '__package__', 'acos', 'acosh', 'asin', 'asinh', 'atan', 'atan2', 'atanh', 'ceil', 'copysign', 'cos', 'cosh', 'degrees', 'e', 'erf', 'erfc', 'exp', 'expm1', 'fabs', 'factorial', 'floor', 'fmod', 'frexp', 'fsum', 'gamma', 'hypot', 'isinf', 'isnan', 'ldexp', 'lgamma', 'log', 'log10', 'log1p', 'modf', 'pi', 'pow', 'radians', 'sin', 'sinh', 'sqrt', 'tan', 'tanh', 'trunc']\n",
    "\"\"\""
   ]
  },
  {
   "cell_type": "code",
   "execution_count": 69,
   "metadata": {},
   "outputs": [
    {
     "name": "stdout",
     "output_type": "stream",
     "text": [
      "10\n",
      "-10\n",
      "10\n",
      "6\n"
     ]
    }
   ],
   "source": [
    "#math\n",
    "\n",
    "def biggest_number(*args):\n",
    "    print (max(args))\n",
    "    return max(args)\n",
    "\n",
    "def smallest_number(*args):\n",
    "    print (min(args))\n",
    "    return min(args)\n",
    "\n",
    "def distance_from_zero(arg):\n",
    "    print (abs(arg))\n",
    "    return abs(arg)\n",
    "\n",
    "biggest_number(-10, -5, 5, 10)\n",
    "smallest_number(-10, -5, 5, 10)\n",
    "distance_from_zero(-10)\n",
    "# ---\n",
    "maximum = max(2.3,4.1,6)\n",
    "minimum = min(2.3,4.1,6)\n",
    "absolute = abs(-42)\n",
    "\n",
    "print (maximum)"
   ]
  },
  {
   "cell_type": "code",
   "execution_count": 7,
   "metadata": {},
   "outputs": [
    {
     "name": "stdout",
     "output_type": "stream",
     "text": [
      "<class 'int'>\n",
      "<class 'float'>\n",
      "<class 'str'>\n"
     ]
    },
    {
     "ename": "NameError",
     "evalue": "name 'happy' is not defined",
     "output_type": "error",
     "traceback": [
      "\u001b[1;31m---------------------------------------------------------------------------\u001b[0m",
      "\u001b[1;31mNameError\u001b[0m                                 Traceback (most recent call last)",
      "\u001b[1;32m<ipython-input-7-5a584864b803>\u001b[0m in \u001b[0;36m<module>\u001b[1;34m\u001b[0m\n\u001b[0;32m      7\u001b[0m \u001b[1;31m# ---\u001b[0m\u001b[1;33m\u001b[0m\u001b[1;33m\u001b[0m\u001b[1;33m\u001b[0m\u001b[0m\n\u001b[0;32m      8\u001b[0m \u001b[1;32mdef\u001b[0m \u001b[0mspeak\u001b[0m\u001b[1;33m(\u001b[0m\u001b[0mmessage\u001b[0m\u001b[1;33m)\u001b[0m\u001b[1;33m:\u001b[0m \u001b[1;32mreturn\u001b[0m \u001b[0mmessage\u001b[0m\u001b[1;33m\u001b[0m\u001b[1;33m\u001b[0m\u001b[0m\n\u001b[1;32m----> 9\u001b[1;33m \u001b[1;32mif\u001b[0m \u001b[0mhappy\u001b[0m\u001b[1;33m(\u001b[0m\u001b[1;33m)\u001b[0m\u001b[1;33m:\u001b[0m \u001b[0mspeak\u001b[0m\u001b[1;33m(\u001b[0m\u001b[1;34m\"I'm happy!\"\u001b[0m\u001b[1;33m)\u001b[0m\u001b[1;33m\u001b[0m\u001b[1;33m\u001b[0m\u001b[0m\n\u001b[0m\u001b[0;32m     10\u001b[0m \u001b[1;32melif\u001b[0m \u001b[0msad\u001b[0m\u001b[1;33m(\u001b[0m\u001b[1;33m)\u001b[0m\u001b[1;33m:\u001b[0m \u001b[0mspeak\u001b[0m\u001b[1;33m(\u001b[0m\u001b[1;34m\"I'm sad.\"\u001b[0m\u001b[1;33m)\u001b[0m\u001b[1;33m\u001b[0m\u001b[1;33m\u001b[0m\u001b[0m\n\u001b[0;32m     11\u001b[0m \u001b[1;32melse\u001b[0m\u001b[1;33m:\u001b[0m \u001b[0mspeak\u001b[0m\u001b[1;33m(\u001b[0m\u001b[1;34m\"I don't know what I'm feeling.\"\u001b[0m\u001b[1;33m)\u001b[0m\u001b[1;33m\u001b[0m\u001b[1;33m\u001b[0m\u001b[0m\n",
      "\u001b[1;31mNameError\u001b[0m: name 'happy' is not defined"
     ]
    }
   ],
   "source": [
    "# INI BINGUNG\n",
    "\n",
    "print (type(42))      #<type 'int'>\n",
    "print (type(4.2))     #<type 'float'>\n",
    "print (type('spam'))  #<type 'str'>\n",
    "\n",
    "# ---\n",
    "def speak(message): return message\n",
    "if happy(): speak(\"I'm happy!\")\n",
    "elif sad(): speak(\"I'm sad.\")\n",
    "else: speak(\"I don't know what I'm feeling.\")\n",
    "# --- \n",
    "def shut_down(s):\n",
    "    if s==\"yes\": return \"Shutting down\"\n",
    "    elif s==\"no\": return \"Shutdown aborted\"\n",
    "    else: return \"Sorry\""
   ]
  },
  {
   "cell_type": "code",
   "execution_count": 13,
   "metadata": {},
   "outputs": [
    {
     "ename": "SyntaxError",
     "evalue": "invalid syntax (<ipython-input-13-a721bb87d5a5>, line 4)",
     "output_type": "error",
     "traceback": [
      "\u001b[1;36m  File \u001b[1;32m\"<ipython-input-13-a721bb87d5a5>\"\u001b[1;36m, line \u001b[1;32m4\u001b[0m\n\u001b[1;33m    return type(num) == int or type(num) == float:\u001b[0m\n\u001b[1;37m                                                 ^\u001b[0m\n\u001b[1;31mSyntaxError\u001b[0m\u001b[1;31m:\u001b[0m invalid syntax\n"
     ]
    }
   ],
   "source": [
    "# BINGUNG\n",
    "\n",
    "def is_numeric(num):\n",
    "    return type(num) == int or type(num) == float:\n",
    "    \n",
    "# ---\n",
    "def distance_from_zero(a):\n",
    "    if type(a)==int or type(a)==float:\n",
    "        return abs(a)\n",
    "    else:\n",
    "        return \"Nope\""
   ]
  },
  {
   "cell_type": "code",
   "execution_count": 82,
   "metadata": {},
   "outputs": [
    {
     "name": "stdout",
     "output_type": "stream",
     "text": [
      "1955\n"
     ]
    }
   ],
   "source": [
    "# Taking a Vacation\n",
    "\n",
    "def hotel_cost(nights): return 140*nights\n",
    "\n",
    "def plane_ride_cost(city):\n",
    "    if city==\"Charlotte\": return 183\n",
    "    elif city==\"Tampa\": return 220\n",
    "    elif city==\"Pittsburgh\": return 222\n",
    "    elif city==\"Los Angeles\": return 475\n",
    "    \n",
    "def rental_car_cost(days):\n",
    "    costperday = 40\n",
    "    if days >= 7: total = days * costperday - 50\n",
    "    elif days >=3: total = days * costperday - 20\n",
    "    else: total = days * costperday\n",
    "    return total\n",
    "\n",
    "def trip_cost(city,days,spending_money):\n",
    "    return rental_car_cost(days)+hotel_cost(days)+plane_ride_cost(city)+spending_money\n",
    "\n",
    "print (trip_cost(\"Los Angeles\",5,600))"
   ]
  },
  {
   "cell_type": "code",
   "execution_count": 84,
   "metadata": {},
   "outputs": [
    {
     "name": "stdout",
     "output_type": "stream",
     "text": [
      "The first animal at the zoo is the pangolin\n",
      "The second animal at the zoo is the cassowary\n",
      "The third animal at the zoo is the sloth\n",
      "The fourth animal at the zoo is the gajah\n"
     ]
    }
   ],
   "source": [
    "# Lists and Dictionaries\n",
    "\n",
    "# list_name = [item_1, item_2], empty []\n",
    "zoo_animals = [\"pangolin\", \"cassowary\", \"sloth\", \"gajah\"];\n",
    "if len(zoo_animals) > 3:\n",
    "    print (\"The first animal at the zoo is the \" + zoo_animals[0])\n",
    "    print (\"The second animal at the zoo is the \" + zoo_animals[1])\n",
    "    print (\"The third animal at the zoo is the \" + zoo_animals[2])\n",
    "    print (\"The fourth animal at the zoo is the \" + zoo_animals[3])"
   ]
  },
  {
   "cell_type": "code",
   "execution_count": 85,
   "metadata": {},
   "outputs": [
    {
     "name": "stdout",
     "output_type": "stream",
     "text": [
      "There are 4 items in the suitcase.\n",
      "['sunglasses', 'a', 'b', 'c']\n"
     ]
    },
    {
     "data": {
      "text/plain": [
       "\"\\nThere are 4 items in the suitcase.\\n['sunglasses', 'a', 'b', 'c']\\n\""
      ]
     },
     "execution_count": 85,
     "metadata": {},
     "output_type": "execute_result"
    }
   ],
   "source": [
    "suitcase = [] \n",
    "suitcase.append(\"sunglasses\")\n",
    "\n",
    "# Your code here!\n",
    "suitcase.append('a')\n",
    "suitcase.append('b')\n",
    "suitcase.append('c')\n",
    "\n",
    "list_length = len(suitcase) # Set this to the length of suitcase\n",
    "\n",
    "print (\"There are %d items in the suitcase.\" % (list_length))\n",
    "print (suitcase)\n",
    "\"\"\"\n",
    "There are 4 items in the suitcase.\n",
    "['sunglasses', 'a', 'b', 'c']\n",
    "\"\"\""
   ]
  },
  {
   "cell_type": "code",
   "execution_count": 86,
   "metadata": {},
   "outputs": [],
   "source": [
    "# slicing\n",
    "\n",
    "suitcase = [\"sunglasses\", \"hat\", \"passport\", \"laptop\", \"suit\", \"shoes\"]\n",
    "\n",
    "first  = suitcase[0:2]  # The first and second items (index zero and one)\n",
    "middle = suitcase[2:4]  # Third and fourth items (index two and three)\n",
    "last   = suitcase[4:6]  # The last two items (index four and five)\n",
    "# < 6 bukan <= 6\n",
    "# We start at the index before the colon and continue up to but not including the index after the colon.\n",
    "# ---\n",
    "\n",
    "animals = \"catdogfrog\"\n",
    "cat  = animals[:3]   # The first three characters of animals\n",
    "dog  = animals[3:6]   # The fourth through sixth characters\n",
    "frog = animals[6:]   # From the seventh character to the end\n",
    "# tanpa start/end"
   ]
  },
  {
   "cell_type": "code",
   "execution_count": 87,
   "metadata": {},
   "outputs": [
    {
     "name": "stdout",
     "output_type": "stream",
     "text": [
      "['aardvark', 'badger', 'cobra', 'duck', 'emu', 'fennec fox']\n"
     ]
    }
   ],
   "source": [
    "# methods\n",
    "\n",
    "animals = [\"aardvark\", \"badger\", \"duck\", \"emu\", \"fennec fox\"]\n",
    "duck_index = animals.index(\"duck\")   # Use index() to find \"duck\"\n",
    "\n",
    "# Your code here!\n",
    "animals.insert(duck_index,\"cobra\")\n",
    "\n",
    "print (animals) # Observe what prints after the insert operation\n",
    "# ['aardvark', 'badger', 'cobra', 'duck', 'emu', 'fennec fox']"
   ]
  },
  {
   "cell_type": "code",
   "execution_count": 89,
   "metadata": {},
   "outputs": [
    {
     "name": "stdout",
     "output_type": "stream",
     "text": [
      "2\n",
      "18\n",
      "6\n",
      "16\n",
      "10\n",
      "14\n",
      "[1, 4, 9, 16, 25]\n"
     ]
    }
   ],
   "source": [
    "# 1\n",
    "my_list = [1,9,3,8,5,7]\n",
    "\n",
    "for number in my_list: print (2*number)\n",
    "# 2    \n",
    "# .sort\n",
    "start_list = [5, 3, 1, 2, 4]\n",
    "square_list = []\n",
    "\n",
    "for num in start_list:\n",
    "    square_list.append(num**2)\n",
    "\n",
    "square_list.sort()\n",
    "print (square_list)"
   ]
  },
  {
   "cell_type": "code",
   "execution_count": 90,
   "metadata": {},
   "outputs": [
    {
     "name": "stdout",
     "output_type": "stream",
     "text": [
      "104\n",
      "105\n",
      "106\n"
     ]
    }
   ],
   "source": [
    "# dictionary key value notasi object {}\n",
    "residents = {'Puffin' : 104, 'Sloth' : 105, 'Burmese Python' : 106}\n",
    "\n",
    "print (residents['Puffin']) # Prints Puffin's room number\n",
    "\n",
    "# Your code here!\n",
    "print (residents['Sloth'])\n",
    "print (residents['Burmese Python'])"
   ]
  },
  {
   "cell_type": "code",
   "execution_count": 91,
   "metadata": {},
   "outputs": [
    {
     "name": "stdout",
     "output_type": "stream",
     "text": [
      "14.5\n",
      "There are 4 items on the menu.\n",
      "{'Chicken Alfredo': 14.5, 'karedok': 2.2, 'lotek': 2.3, 'rujak': 3.3}\n"
     ]
    },
    {
     "data": {
      "text/plain": [
       "\"\\n14.5\\nThere are 4 items on the menu.\\n{'lotek': 2.3, 'Chicken Alfredo': 14.5, 'karedok': 2.2, 'rujak': 3.3}\\n\""
      ]
     },
     "execution_count": 91,
     "metadata": {},
     "output_type": "execute_result"
    }
   ],
   "source": [
    "# ---\n",
    "menu = {} # Empty dictionary\n",
    "menu['Chicken Alfredo'] = 14.50 # Adding new key-value pair\n",
    "print (menu['Chicken Alfredo'])\n",
    "\n",
    "# append\n",
    "menu['karedok'] = 2.2\n",
    "menu['lotek'] = 2.3\n",
    "menu['rujak'] = 3.3\n",
    "\n",
    "print (\"There are \" + str(len(menu)) + \" items on the menu.\")\n",
    "print (menu)\n",
    "\"\"\"\n",
    "14.5\n",
    "There are 4 items on the menu.\n",
    "{'lotek': 2.3, 'Chicken Alfredo': 14.5, 'karedok': 2.2, 'rujak': 3.3}\n",
    "\"\"\""
   ]
  },
  {
   "cell_type": "code",
   "execution_count": 92,
   "metadata": {},
   "outputs": [
    {
     "name": "stdout",
     "output_type": "stream",
     "text": [
      "{'Atlantic Puffin': 'Arctic Exhibit', 'Rockhopper Penguin': 'Arctic Exhibit Mod'}\n"
     ]
    }
   ],
   "source": [
    "# key - animal_name : value - location \n",
    "zoo_animals = { 'Unicorn' : 'Cotton Candy House',\n",
    "                'Sloth' : 'Rainforest Exhibit',\n",
    "                'Bengal Tiger' : 'Jungle House',\n",
    "                'Atlantic Puffin' : 'Arctic Exhibit',\n",
    "                'Rockhopper Penguin' : 'Arctic Exhibit'}\n",
    "\n",
    "# Removing the 'Unicorn' entry. (Unicorns are incredibly expensive.)\n",
    "del zoo_animals['Unicorn']\n",
    "\n",
    "del zoo_animals['Sloth']\n",
    "del zoo_animals['Bengal Tiger']\n",
    "zoo_animals['Rockhopper Penguin']='Arctic Exhibit Mod'\n",
    "\n",
    "print (zoo_animals)"
   ]
  },
  {
   "cell_type": "code",
   "execution_count": 93,
   "metadata": {},
   "outputs": [],
   "source": [
    "# remove\n",
    "backpack = ['xylophone', 'dagger', 'tent', 'bread loaf']\n",
    "backpack.remove(\"dagger\")\n",
    "\n",
    "# ---\n",
    "inventory = {\n",
    "     'gold' : 500,\n",
    "     'pouch' : ['flint', 'twine', 'gemstone'], # Assigned a new list to 'pouch' key\n",
    "     'backpack' : ['xylophone','dagger', 'bedroll','bread loaf']\n",
    "}\n",
    "\n",
    "# Adding a key 'burlap bag' and assigning a list to it\n",
    "inventory['burlap bag'] = ['apple', 'small ruby', 'three-toed sloth']\n",
    "\n",
    "# Sorting the list found under the key 'pouch'\n",
    "inventory['pouch'].sort() \n",
    "\n",
    "inventory['pocket']=['seashell','strange berry','lint']\n",
    "inventory['backpack'].sort()\n",
    "inventory['backpack'].remove('dagger')\n",
    "inventory['gold'] += 50"
   ]
  },
  {
   "cell_type": "code",
   "execution_count": 95,
   "metadata": {},
   "outputs": [
    {
     "name": "stdout",
     "output_type": "stream",
     "text": [
      "Adam\n",
      "Alex\n",
      "Mariah\n",
      "Martine\n",
      "Columbus\n",
      "A star of a popular children's cartoon show.\n",
      "The sound a goat makes.\n",
      "Goes on the floor.\n",
      "A small amount.\n"
     ]
    }
   ],
   "source": [
    "names = [\"Adam\",\"Alex\",\"Mariah\",\"Martine\",\"Columbus\"]\n",
    "for item in names: print (item)\n",
    "    \n",
    "# ---\n",
    "# indent first element dalam dict dalam {}, spt di bhs lain\n",
    "webster = {\n",
    "     \"Aardvark\" : \"A star of a popular children's cartoon show.\",\n",
    "     \"Baa\" : \"The sound a goat makes.\",\n",
    "     \"Carpet\": \"Goes on the floor.\",\n",
    "     \"Dab\": \"A small amount.\"\n",
    "}\n",
    "\n",
    "for key in webster:\n",
    "    print (webster[key])"
   ]
  },
  {
   "cell_type": "code",
   "execution_count": 97,
   "metadata": {},
   "outputs": [
    {
     "name": "stdout",
     "output_type": "stream",
     "text": [
      "0\n",
      "2\n",
      "4\n",
      "6\n",
      "8\n",
      "10\n",
      "12\n",
      "2\n"
     ]
    },
    {
     "data": {
      "text/plain": [
       "2"
      ]
     },
     "execution_count": 97,
     "metadata": {},
     "output_type": "execute_result"
    }
   ],
   "source": [
    "a = [0, 1, 2, 3, 4, 5, 6, 7, 8, 9, 10, 11, 12, 13]\n",
    "\n",
    "for number in a: \n",
    "     if number % 2 == 0: print (number)\n",
    "            \n",
    "# ---\n",
    "def count_small(numbers):\n",
    "    total = 0\n",
    "    for n in numbers:\n",
    "        if n < 10: total = total + 1\n",
    "    return total\n",
    "\n",
    "lost = [4, 8, 15, 16, 23, 42]\n",
    "small = count_small(lost)\n",
    "print (small)\n",
    "# ---\n",
    "def fizz_count(x):\n",
    "    count = 0\n",
    "    for item in x:\n",
    "        if item == 'fizz': count += 1\n",
    "    return count\n",
    "fizz_count([\"fizz\",\"cat\",\"fizz\"])"
   ]
  },
  {
   "cell_type": "code",
   "execution_count": 100,
   "metadata": {},
   "outputs": [
    {
     "name": "stdout",
     "output_type": "stream",
     "text": [
      "C\n",
      "o\n",
      "d\n",
      "e\n",
      "c\n",
      "a\n",
      "d\n",
      "e\n",
      "m\n",
      "y\n",
      "i\n",
      "i\n"
     ]
    }
   ],
   "source": [
    "for letter in \"Codecademy\": print (letter)\n",
    "\n",
    "    # Empty lines to make the output pretty\n",
    "print\n",
    "print\n",
    "\n",
    "word = \"Programming is fun!\"\n",
    "\n",
    "for letter in word:\n",
    "    # Only print out the letter i\n",
    "    if letter == \"i\": print (letter)"
   ]
  },
  {
   "cell_type": "code",
   "execution_count": 103,
   "metadata": {},
   "outputs": [
    {
     "name": "stdout",
     "output_type": "stream",
     "text": [
      "banana\n",
      "price: 4\n",
      "stock: 6\n",
      "apple\n",
      "price: 2\n",
      "stock: 0\n",
      "orange\n",
      "price: 1.5\n",
      "stock: 32\n",
      "pear\n",
      "price: 3\n",
      "stock: 15\n"
     ]
    }
   ],
   "source": [
    "prices = {\n",
    "     \"banana\": 4,\n",
    "\"apple\": 2,\n",
    "  \"orange\": 1.5,\n",
    "\"pear\": 3\n",
    "    }\n",
    "\n",
    "stock = {\n",
    "  \"banana\": 6,\n",
    "  \"apple\": 0,\n",
    "  \"orange\": 32,\n",
    "  \"pear\": 15    \n",
    "}\n",
    "\n",
    "for key in stock:\n",
    "    print (key)\n",
    "    print (\"price: %s\" % prices[key])\n",
    "    print (\"stock: %s\" % stock[key])"
   ]
  },
  {
   "cell_type": "code",
   "execution_count": 105,
   "metadata": {},
   "outputs": [
    {
     "name": "stdout",
     "output_type": "stream",
     "text": [
      "banana\n",
      "price: 4\n",
      "stock: 6\n",
      "apple\n",
      "price: 2\n",
      "stock: 0\n",
      "orange\n",
      "price: 1.5\n",
      "stock: 32\n",
      "pear\n",
      "price: 3\n",
      "stock: 15\n",
      "24\n",
      "0\n",
      "48.0\n",
      "45\n",
      "117.0\n"
     ]
    }
   ],
   "source": [
    "# take 2\n",
    "prices = {\n",
    "    \"banana\" : 4,   \"apple\"  : 2,\n",
    "    \"orange\" : 1.5, \"pear\"   : 3,\n",
    "}\n",
    "stock = {\n",
    "    \"banana\" : 6,   \"apple\"  : 0,\n",
    "    \"orange\" : 32,  \"pear\"   : 15,\n",
    "}\n",
    "\n",
    "for key in prices:\n",
    "    print (key)\n",
    "    print (\"price: %s\" % prices[key])\n",
    "    print (\"stock: %s\" % stock[key])\n",
    "\n",
    "    total = 0\n",
    "for key in prices:\n",
    "     print (prices[key]*stock[key])\n",
    "     total += prices[key]*stock[key]\n",
    "print (total)"
   ]
  },
  {
   "cell_type": "code",
   "execution_count": 106,
   "metadata": {},
   "outputs": [],
   "source": [
    "# take 3\n",
    "shopping_list = [\"banana\", \"orange\", \"apple\"]\n",
    "stock = {\n",
    "    \"banana\": 6,   \"apple\": 0,\n",
    "    \"orange\": 32,  \"pear\": 15\n",
    "}\n",
    "prices = {\n",
    "    \"banana\": 4,   \"apple\": 2,\n",
    "    \"orange\": 1.5, \"pear\": 3\n",
    "}\n",
    "def compute_bill(food):\n",
    "    total = 0\n",
    "    for item in food:\n",
    "        if stock[item] > 0:\n",
    "          total += prices[item]\n",
    "          stock[item] -= 1\n",
    "    return total"
   ]
  },
  {
   "cell_type": "code",
   "execution_count": 107,
   "metadata": {},
   "outputs": [
    {
     "name": "stdout",
     "output_type": "stream",
     "text": [
      "Lloyd\n",
      "[90.0, 97.0, 75.0, 92.0]\n",
      "[88.0, 40.0, 94.0]\n",
      "[75.0, 90.0]\n",
      "Alice\n",
      "[100.0, 92.0, 98.0, 100.0]\n",
      "[82.0, 83.0, 91.0]\n",
      "[89.0, 97.0]\n",
      "Tyler\n",
      "[0.0, 87.0, 75.0, 22.0]\n",
      "[0.0, 75.0, 78.0]\n",
      "[100.0, 100.0]\n"
     ]
    }
   ],
   "source": [
    "lloyd = {\n",
    "    \"name\": \"Lloyd\",\n",
    "    \"homework\": [90.0, 97.0, 75.0, 92.0],\n",
    "    \"quizzes\": [88.0, 40.0, 94.0],\n",
    "    \"tests\": [75.0, 90.0]\n",
    "}\n",
    "alice = {\n",
    "    \"name\": \"Alice\", \"homework\": [100.0, 92.0, 98.0, 100.0],\n",
    "    \"quizzes\": [82.0, 83.0, 91.0], \"tests\": [89.0, 97.0]\n",
    "}\n",
    "tyler = {\n",
    "    \"name\": \"Tyler\", \"homework\": [0.0, 87.0, 75.0, 22.0],\n",
    "    \"quizzes\": [0.0, 75.0, 78.0], \"tests\": [100.0, 100.0]\n",
    "}\n",
    "\n",
    "students = [lloyd,alice,tyler]\n",
    "for student in students:\n",
    "    print (student['name'])\n",
    "    print (student['homework'])\n",
    "    print (student['quizzes'])\n",
    "    print (student['tests'])"
   ]
  },
  {
   "cell_type": "code",
   "execution_count": 108,
   "metadata": {},
   "outputs": [
    {
     "data": {
      "text/plain": [
       "2.5"
      ]
     },
     "execution_count": 108,
     "metadata": {},
     "output_type": "execute_result"
    }
   ],
   "source": [
    "# arithmetics notes\n",
    "\n",
    "5 / 2\n",
    "# 2\n",
    "5.0 / 2\n",
    "# 2.5\n",
    "\n",
    "float(5) / 2\n",
    "# 2.5 biar jadi float karena int/int"
   ]
  },
  {
   "cell_type": "code",
   "execution_count": 109,
   "metadata": {},
   "outputs": [],
   "source": [
    "lloyd = { \"name\": \"Lloyd\", \"homework\": [90.0, 97.0, 75.0, 92.0],\n",
    "          \"quizzes\": [88.0, 40.0, 94.0], \"tests\": [75.0, 90.0] }\n",
    "alice = { \"name\": \"Alice\", \"homework\": [100.0, 92.0, 98.0, 100.0],\n",
    "          \"quizzes\": [82.0, 83.0, 91.0], \"tests\": [89.0, 97.0] }\n",
    "tyler = { \"name\": \"Tyler\", \"homework\": [0.0, 87.0, 75.0, 22.0],\n",
    "          \"quizzes\": [0.0, 75.0, 78.0], \"tests\": [100.0, 100.0] }\n",
    "# ---\n",
    "def average(numbers):\n",
    "    total = sum(numbers)\n",
    "    total = float(total)\n",
    "    return total/len(numbers)\n",
    "def get_average(student):\n",
    "    homework = average(student['homework'])\n",
    "    quizzes = average(student['quizzes'])\n",
    "    tests = average(student['tests'])\n",
    "    return 0.1*homework + 0.3*quizzes + 0.6*tests\n",
    "def get_letter_grade(score):\n",
    "    if score >= 90: return \"A\"\n",
    "    elif score >= 80: return \"B\"\n",
    "    elif score >= 70: return \"C\"\n",
    "    elif score >=60: return \"D\"\n",
    "    else: return \"F\"\n",
    "def get_class_average(students):\n",
    "    results = []\n",
    "    for student in students: results.append(get_average(student))\n",
    "    return average(results)"
   ]
  },
  {
   "cell_type": "code",
   "execution_count": 110,
   "metadata": {},
   "outputs": [
    {
     "name": "stdout",
     "output_type": "stream",
     "text": [
      "83.86666666666666\n",
      "B\n"
     ]
    }
   ],
   "source": [
    "# ---\n",
    "students=[lloyd,alice,tyler]\n",
    "print (get_class_average(students))\n",
    "print (get_letter_grade(get_class_average(students)))\n",
    "# ---\n",
    "#classaverage = get_class_average([lloyd,alice,tyler])    \n",
    "# print get_letter_grade(get_average(lloyd))\n",
    "# ---"
   ]
  },
  {
   "cell_type": "code",
   "execution_count": 111,
   "metadata": {},
   "outputs": [
    {
     "name": "stdout",
     "output_type": "stream",
     "text": [
      "[1, 15, 5, 4]\n",
      "[3, 5]\n"
     ]
    }
   ],
   "source": [
    "# LIST AND FUNCTIONS\n",
    "\n",
    "n = [1, 3, 5]\n",
    "# Do your multiplication here\n",
    "n[1] *= 5\n",
    "n.append(4)\n",
    "print (n)\n",
    "# [1, 15, 5, 4]\n",
    "\n",
    "n = [1, 3, 5]\n",
    "# Remove the first item in the list here\n",
    "n.pop(0) \n",
    "# atau del(n[0]) \n",
    "# n.remove(1) value 1, bukan index\n",
    "# pop nge-return value, del void\n",
    "print (n)"
   ]
  },
  {
   "cell_type": "code",
   "execution_count": 112,
   "metadata": {},
   "outputs": [
    {
     "name": "stdout",
     "output_type": "stream",
     "text": [
      "Hello world\n",
      "[3, 8, 7]\n",
      "[3, 5, 7, 9]\n"
     ]
    }
   ],
   "source": [
    "# 1\n",
    "n = \"Hello\"\n",
    "def string_function(s):\n",
    "    return s+' world'\n",
    "\n",
    "print (string_function(n))\n",
    "\n",
    "# 2\n",
    "def list_function(x):\n",
    "    x[1]+=3\n",
    "    return x\n",
    "\n",
    "n = [3, 5, 7]\n",
    "print (list_function(n))\n",
    "\n",
    "# 3\n",
    "n = [3, 5, 7]\n",
    "\n",
    "def list_extender(lst):\n",
    "    lst.append(9);\n",
    "    return lst\n",
    "\n",
    "print (list_extender(n))"
   ]
  },
  {
   "cell_type": "code",
   "execution_count": 113,
   "metadata": {},
   "outputs": [
    {
     "name": "stdout",
     "output_type": "stream",
     "text": [
      "3\n",
      "5\n",
      "7\n",
      "[6, 10, 14]\n"
     ]
    }
   ],
   "source": [
    "# 1 range\n",
    "n = [3, 5, 7]\n",
    "\n",
    "def print_list(x):\n",
    "  for i in range(0, len(x)):\n",
    "    print (x[i])\n",
    "    \n",
    "print_list(n)\n",
    "# each line: 3 5 7\n",
    "\n",
    "# 2\n",
    "n = [3, 5, 7]\n",
    "\n",
    "def double_list(x):\n",
    "  for i in range(0, len(x)):\n",
    "    x[i] = x[i] * 2\n",
    "  return x\n",
    "\n",
    "print (double_list(n))\n",
    "# [6, 10, 14]"
   ]
  },
  {
   "cell_type": "code",
   "execution_count": 115,
   "metadata": {},
   "outputs": [
    {
     "ename": "TypeError",
     "evalue": "'range' object does not support item assignment",
     "output_type": "error",
     "traceback": [
      "\u001b[1;31m---------------------------------------------------------------------------\u001b[0m",
      "\u001b[1;31mTypeError\u001b[0m                                 Traceback (most recent call last)",
      "\u001b[1;32m<ipython-input-115-aad417de09cf>\u001b[0m in \u001b[0;36m<module>\u001b[1;34m\u001b[0m\n\u001b[0;32m     14\u001b[0m     \u001b[1;32mreturn\u001b[0m \u001b[0mx\u001b[0m\u001b[1;33m\u001b[0m\u001b[1;33m\u001b[0m\u001b[0m\n\u001b[0;32m     15\u001b[0m \u001b[1;33m\u001b[0m\u001b[0m\n\u001b[1;32m---> 16\u001b[1;33m \u001b[0mprint\u001b[0m \u001b[1;33m(\u001b[0m\u001b[0mmy_function\u001b[0m\u001b[1;33m(\u001b[0m\u001b[0mrange\u001b[0m\u001b[1;33m(\u001b[0m\u001b[1;36m3\u001b[0m\u001b[1;33m)\u001b[0m\u001b[1;33m)\u001b[0m\u001b[1;33m)\u001b[0m \u001b[1;31m# [0, 1, 2]\u001b[0m\u001b[1;33m\u001b[0m\u001b[1;33m\u001b[0m\u001b[0m\n\u001b[0m\u001b[0;32m     17\u001b[0m \u001b[1;31m# [0, 2, 4]\u001b[0m\u001b[1;33m\u001b[0m\u001b[1;33m\u001b[0m\u001b[1;33m\u001b[0m\u001b[0m\n",
      "\u001b[1;32m<ipython-input-115-aad417de09cf>\u001b[0m in \u001b[0;36mmy_function\u001b[1;34m(x)\u001b[0m\n\u001b[0;32m     11\u001b[0m \u001b[1;32mdef\u001b[0m \u001b[0mmy_function\u001b[0m\u001b[1;33m(\u001b[0m\u001b[0mx\u001b[0m\u001b[1;33m)\u001b[0m\u001b[1;33m:\u001b[0m\u001b[1;33m\u001b[0m\u001b[1;33m\u001b[0m\u001b[0m\n\u001b[0;32m     12\u001b[0m     \u001b[1;32mfor\u001b[0m \u001b[0mi\u001b[0m \u001b[1;32min\u001b[0m \u001b[0mrange\u001b[0m\u001b[1;33m(\u001b[0m\u001b[1;36m0\u001b[0m\u001b[1;33m,\u001b[0m \u001b[0mlen\u001b[0m\u001b[1;33m(\u001b[0m\u001b[0mx\u001b[0m\u001b[1;33m)\u001b[0m\u001b[1;33m)\u001b[0m\u001b[1;33m:\u001b[0m\u001b[1;33m\u001b[0m\u001b[1;33m\u001b[0m\u001b[0m\n\u001b[1;32m---> 13\u001b[1;33m         \u001b[0mx\u001b[0m\u001b[1;33m[\u001b[0m\u001b[0mi\u001b[0m\u001b[1;33m]\u001b[0m \u001b[1;33m=\u001b[0m \u001b[0mx\u001b[0m\u001b[1;33m[\u001b[0m\u001b[0mi\u001b[0m\u001b[1;33m]\u001b[0m \u001b[1;33m*\u001b[0m \u001b[1;36m2\u001b[0m\u001b[1;33m\u001b[0m\u001b[1;33m\u001b[0m\u001b[0m\n\u001b[0m\u001b[0;32m     14\u001b[0m     \u001b[1;32mreturn\u001b[0m \u001b[0mx\u001b[0m\u001b[1;33m\u001b[0m\u001b[1;33m\u001b[0m\u001b[0m\n\u001b[0;32m     15\u001b[0m \u001b[1;33m\u001b[0m\u001b[0m\n",
      "\u001b[1;31mTypeError\u001b[0m: 'range' object does not support item assignment"
     ]
    }
   ],
   "source": [
    "# SUMPAH AKU UDAH CAPEK! BINGUNG KUADRAT\n",
    "\n",
    "# 3\n",
    "range(6) # => [0,1,2,3,4,5]\n",
    "range(1,6) # => [1,2,3,4,5]\n",
    "range(1,6,3) # => [1,4]\n",
    "# range(stop)\n",
    "# range(start, stop)\n",
    "# range(start, stop, step)\n",
    "\n",
    "def my_function(x):\n",
    "    for i in range(0, len(x)):\n",
    "        x[i] = x[i] * 2\n",
    "    return x\n",
    "\n",
    "print (my_function(range(3))) # [0, 1, 2]\n",
    "# [0, 2, 4]"
   ]
  },
  {
   "cell_type": "code",
   "execution_count": 116,
   "metadata": {},
   "outputs": [
    {
     "name": "stdout",
     "output_type": "stream",
     "text": [
      "MichaelLieberman\n"
     ]
    }
   ],
   "source": [
    "# 1\n",
    "n = [3, 5, 7]\n",
    "\n",
    "def total(numbers):\n",
    "    result = 0\n",
    "    for num in numbers: #for i in range(len(numbers)):\n",
    "        result += num   #result += numbers[i]\n",
    "    return result\n",
    "\n",
    "# 2    \n",
    "n = [\"Michael\", \"Lieberman\"]\n",
    "\n",
    "def join_strings(words):\n",
    "    result = \"\"\n",
    "    for item in words:\n",
    "        result += item\n",
    "    return result\n",
    "\n",
    "print (join_strings(n))"
   ]
  },
  {
   "cell_type": "code",
   "execution_count": 118,
   "metadata": {},
   "outputs": [
    {
     "name": "stdout",
     "output_type": "stream",
     "text": [
      "[1, 2, 3, 4, 5, 6]\n",
      "[1, 2, 3, 4, 5, 6, 7, 8, 9]\n"
     ]
    }
   ],
   "source": [
    "# 3 operator + agak beda di python buat list\n",
    "m = [1, 2, 3]\n",
    "n = [4, 5, 6]\n",
    "\n",
    "def join_lists(x,y): return x + y\n",
    "\n",
    "print (join_lists(m, n))\n",
    "# [1, 2, 3, 4, 5, 6]\n",
    "\n",
    "# 4 List of Lists\n",
    "n = [[1, 2, 3], [4, 5, 6, 7, 8, 9]]\n",
    "\n",
    "def flatten(lists):\n",
    "    results=[]\n",
    "    for numbers in lists:\n",
    "        for num in numbers: results.append(num)\n",
    "    return results\n",
    "\n",
    "print (flatten(n))\n",
    "# [1, 2, 3, 4, 5, 6, 7, 8, 9]"
   ]
  },
  {
   "cell_type": "code",
   "execution_count": 120,
   "metadata": {},
   "outputs": [
    {
     "name": "stdout",
     "output_type": "stream",
     "text": [
      "[['O', 'O', 'O', 'O', 'O'], ['O', 'O', 'O', 'O', 'O'], ['O', 'O', 'O', 'O', 'O'], ['O', 'O', 'O', 'O', 'O'], ['O', 'O', 'O', 'O', 'O']]\n",
      "['O', 'O', 'O', 'O', 'O']\n",
      "['O', 'O', 'O', 'O', 'O']\n",
      "['O', 'O', 'O', 'O', 'O']\n",
      "['O', 'O', 'O', 'O', 'O']\n",
      "['O', 'O', 'O', 'O', 'O']\n"
     ]
    }
   ],
   "source": [
    "# tambah elemen berulang pd list\n",
    "board = []\n",
    "\n",
    "for i in range(5):\n",
    "    board.append([\"O\"]*5) #[\"O\",\"O\",\"O\",\"O\",\"O\"]\n",
    "print (board) #[[],..,[]]\n",
    "\n",
    "# print 1 row elemen, 1 baris\n",
    "board = []\n",
    "\n",
    "for i in range(5):\n",
    "    board.append([\"O\"]*5) #[\"O\",\"O\",\"O\",\"O\",\"O\"]\n",
    "\n",
    "def print_board(board):\n",
    "    for row in board: print(row)\n",
    "\n",
    "print_board(board)"
   ]
  },
  {
   "cell_type": "code",
   "execution_count": null,
   "metadata": {},
   "outputs": [
    {
     "name": "stdout",
     "output_type": "stream",
     "text": [
      "Let's play Battleship!\n",
      "O O O O O\n",
      "O O O O O\n",
      "O O O O O\n",
      "O O O O O\n",
      "O O O O O\n",
      "Turn\n",
      "Guess Row:7\n",
      "Guess Col:6\n",
      "Oops, that's not even in the ocean.\n",
      "Turn\n",
      "Guess Row:4\n",
      "Guess Col:3\n",
      "You missed my battleship!\n",
      "O O O O O\n",
      "O O O O O\n",
      "O O O O O\n",
      "O O O O O\n",
      "O O O X O\n",
      "Turn\n"
     ]
    }
   ],
   "source": [
    "#Battleship\n",
    "# .join method uses the string to combine the items in the list.\n",
    "from random import randint\n",
    "\n",
    "board = []\n",
    "for x in range(5): board.append([\"O\"] * 5)\n",
    "    \n",
    "def print_board(board):\n",
    "    for row in board: print (\" \".join(row))\n",
    "        \n",
    "print (\"Let's play Battleship!\")\n",
    "print_board(board)\n",
    "# ---\n",
    "def random_row(board): return randint(0, len(board) - 1)\n",
    "def random_col(board): return randint(0, len(board[0]) - 1)\n",
    "\n",
    "ship_row = random_row(board)\n",
    "ship_col = random_col(board)\n",
    "#print ship_row\n",
    "#print ship_col\n",
    "\n",
    "# Multi line if condition, guess_row not in range(5)\n",
    "for turn in range(4):\n",
    "  print (\"Turn\"), turn + 1\n",
    "  guess_row = int(input(\"Guess Row:\"))\n",
    "  guess_col = int(input(\"Guess Col:\"))\n",
    "\n",
    "  if guess_row == ship_row and guess_col == ship_col:\n",
    "    print (\"Congratulations! You sank my battleship!\")\n",
    "    break\n",
    "  else:\n",
    "    if (guess_row < 0 or guess_row > 4) or \\\n",
    "    (guess_col < 0 or   guess_col > 4):\n",
    "        print (\"Oops, that's not even in the ocean.\")\n",
    "    elif(board[guess_row][guess_col] == \"X\"):\n",
    "        print (\"You guessed that one already.\")\n",
    "    else:\n",
    "        print (\"You missed my battleship!\")\n",
    "        board[guess_row][guess_col] = \"X\"\n",
    "        print_board(board)\n",
    "    if turn == 3:\n",
    "        print (\"Game Over\")"
   ]
  },
  {
   "cell_type": "code",
   "execution_count": 1,
   "metadata": {},
   "outputs": [
    {
     "name": "stdout",
     "output_type": "stream",
     "text": [
      "Hello, I am an if statement and count is\n",
      "Hello, I am a while and count is\n",
      "Hello, I am a while and count is\n",
      "Hello, I am a while and count is\n",
      "Hello, I am a while and count is\n",
      "Hello, I am a while and count is\n",
      "Hello, I am a while and count is\n",
      "Hello, I am a while and count is\n",
      "Hello, I am a while and count is\n",
      "Hello, I am a while and count is\n",
      "Hello, I am a while and count is\n",
      "I am a loop\n",
      "1\n",
      "4\n",
      "9\n",
      "16\n",
      "25\n",
      "36\n",
      "49\n",
      "64\n",
      "81\n",
      "100\n",
      "Enjoying the course? (y/n)y\n",
      "0\n",
      "1\n",
      "2\n",
      "3\n",
      "4\n",
      "5\n",
      "6\n",
      "7\n",
      "8\n",
      "9\n"
     ]
    }
   ],
   "source": [
    "#LOOPS\n",
    "\n",
    "#While\n",
    "# 1 \n",
    "count = 0\n",
    "if count < 5:\n",
    "    print (\"Hello, I am an if statement and count is\"), count\n",
    "while count <= 9:\n",
    "    print (\"Hello, I am a while and count is\"), count\n",
    "    count += 1\n",
    "# ---\n",
    "# 2 \n",
    "loop_condition = True\n",
    "while loop_condition:\n",
    "    print (\"I am a loop\")\n",
    "    loop_condition = False\n",
    "# ---\n",
    "# 3 \n",
    "num = 1\n",
    "while num <= 10:  # Fill in the condition\n",
    "    print (num ** 2)\n",
    "    num += 1\n",
    "    \n",
    "#while break\n",
    "# ---\n",
    "# 4 \n",
    "choice = input('Enjoying the course? (y/n)')\n",
    "while choice != 'y' and choice != 'n':  \n",
    "    choice = input(\"Sorry, I didn't catch that. Enter again: \")\n",
    "# ---\n",
    "# 5 break\n",
    "count = 0\n",
    "while True:\n",
    "    print (count)\n",
    "    count += 1\n",
    "    if count >= 10:\n",
    "        break\n",
    "# ---"
   ]
  },
  {
   "cell_type": "code",
   "execution_count": 3,
   "metadata": {},
   "outputs": [
    {
     "name": "stdout",
     "output_type": "stream",
     "text": [
      "Lucky Numbers! 3 numbers will be generated.\n",
      "If one of them is a '5', you lose!\n",
      "1\n",
      "3\n",
      "6\n",
      "You win!\n",
      "Your guess: 4\n",
      "Your guess: 7\n",
      "Your guess: 1\n",
      "You lose.\n"
     ]
    }
   ],
   "source": [
    "#while else\n",
    "# 6 while else\n",
    "import random\n",
    "print (\"Lucky Numbers! 3 numbers will be generated.\")\n",
    "print (\"If one of them is a '5', you lose!\")\n",
    "count = 0\n",
    "while count < 3:\n",
    "    num = random.randint(1, 6)\n",
    "    print (num)\n",
    "    if num == 5:\n",
    "        print (\"Sorry, you lose!\")\n",
    "        break\n",
    "    count += 1\n",
    "else:\n",
    "    print (\"You win!\")\n",
    "#else dieksekusi setelah kondisi false; tdk pernah dieksekusi setelah break\n",
    "# ---\n",
    "# 7\n",
    "from random import randint\n",
    "# Generates a number from 1 through 10 inclusive\n",
    "random_number = randint(1, 10)\n",
    "guesses_left = 3\n",
    "while guesses_left > 0:\n",
    "    guess = int(input(\"Your guess: \"))\n",
    "    if guess == random_number:\n",
    "        print ('You win!')\n",
    "        break\n",
    "    guesses_left -=1\n",
    "else:\n",
    "    print ('You lose.')"
   ]
  },
  {
   "cell_type": "code",
   "execution_count": 5,
   "metadata": {},
   "outputs": [
    {
     "name": "stdout",
     "output_type": "stream",
     "text": [
      "Your hobby: hugu\n",
      "Your hobby: iufxb\n",
      "Your hobby: kjjhgfcxdz\n",
      "s\n",
      "p\n",
      "a\n",
      "m\n",
      "!\n",
      "e\n",
      "g\n",
      "g\n",
      "s\n",
      "!\n"
     ]
    }
   ],
   "source": [
    "#for in\n",
    "# 1\n",
    "hobbies = []\n",
    "# Add your code below!\n",
    "for i in range(3):\n",
    "    hobby = str(input(\"Your hobby: \"))\n",
    "    hobbies.append(hobby);\n",
    "# ---\n",
    "# 2\n",
    "thing = \"spam!\"\n",
    "for c in thing: print (c)\n",
    "word = \"eggs!\"\n",
    "for c in word: print (c)"
   ]
  },
  {
   "cell_type": "code",
   "execution_count": 4,
   "metadata": {},
   "outputs": [
    {
     "name": "stdout",
     "output_type": "stream",
     "text": [
      "X\n",
      " \n",
      "b\n",
      "i\n",
      "r\n",
      "d\n",
      " \n",
      "i\n",
      "n\n",
      " \n",
      "t\n",
      "h\n",
      "e\n",
      " \n",
      "h\n",
      "X\n",
      "n\n",
      "d\n",
      ".\n",
      ".\n",
      ".\n",
      "a apple\n",
      "b berry\n",
      "c cherry\n"
     ]
    }
   ],
   "source": [
    "# 3\n",
    "phrase = \"A bird in the hand...\"\n",
    "for char in phrase:\n",
    "    if char == \"A\" or char ==\"a\":\n",
    "        print (\"X\"),\n",
    "    else:\n",
    "        print (char),\n",
    "print\n",
    "# The , character after our print statement means that \n",
    "# our next print statement keeps printing on the same line. \n",
    "# plus 1 space\n",
    "# ---\n",
    "# 4 Looping over a dictionary\n",
    "d = {'a': 'apple', 'b': 'berry', 'c': 'cherry'}\n",
    "for key in d:\n",
    "    print (key + \" \" + d[key])"
   ]
  },
  {
   "cell_type": "code",
   "execution_count": 6,
   "metadata": {},
   "outputs": [
    {
     "name": "stdout",
     "output_type": "stream",
     "text": [
      "Your choices are:\n",
      "1 pizza\n",
      "2 pasta\n",
      "3 salad\n",
      "4 nachos\n",
      "3\n",
      "9\n",
      "17\n",
      "15\n",
      "30\n"
     ]
    }
   ],
   "source": [
    "# 5 \n",
    "choices = ['pizza', 'pasta', 'salad', 'nachos']\n",
    "print ('Your choices are:')\n",
    "for index, item in enumerate(choices):\n",
    "    print (index+1, item)\n",
    "# ---\n",
    "# 6 \n",
    "list_a = [3, 9, 17, 15, 19]\n",
    "list_b = [2, 4, 8, 10, 30, 40, 50, 60, 70, 80, 90]\n",
    "for a, b in zip(list_a, list_b):\n",
    "    # Add your code here!\n",
    "    if a > b:\n",
    "        print (a)\n",
    "    else:\n",
    "        print (b)\n",
    "# zip will create pairs of elements when passed two lists, \n",
    "# and will stop at the end of the shorter list.\n",
    "# zip can handle three or more lists as well!"
   ]
  },
  {
   "cell_type": "code",
   "execution_count": 8,
   "metadata": {},
   "outputs": [
    {
     "name": "stdout",
     "output_type": "stream",
     "text": [
      "You have...\n",
      "A\n",
      "A\n",
      "A\n",
      "A tomato is not a fruit!\n",
      "---\n",
      "You have...\n",
      "A\n",
      "A\n",
      "A\n",
      "A\n",
      "A\n",
      "A\n",
      "A fine selection of fruits!\n",
      "a\n",
      "b\n",
      "c\n",
      "completed!\n"
     ]
    }
   ],
   "source": [
    "# 7 \n",
    "fruits = ['banana', 'apple', 'orange', 'tomato', 'pear', 'grape']\n",
    "print ('You have...')\n",
    "for f in fruits:\n",
    "    if f == 'tomato':\n",
    "        print ('A tomato is not a fruit!') # (It actually is.)\n",
    "        break\n",
    "    print ('A'), f\n",
    "else:\n",
    "    print ('A fine selection of fruits!')\n",
    "# spt else while, kl break tidak dirun, kl exit normal yes\n",
    "print('---')\n",
    "# 8\n",
    "fruits = ['banana', 'apple', 'orange', 'tomato', 'pear', 'grape']\n",
    "print ('You have...')\n",
    "for f in fruits:\n",
    "    if f == 'tomato1': # kl match, executed; else never\n",
    "        print ('A tomato is not a fruit!')\n",
    "        break\n",
    "    print ('A'), f\n",
    "else:\n",
    "    print ('A fine selection of fruits!')\n",
    "# ---\n",
    "# 9\n",
    "thelist = ['a','b','c']\n",
    "for i in thelist:\n",
    "    print (i)\n",
    "else:\n",
    "    print ('completed!')"
   ]
  },
  {
   "cell_type": "code",
   "execution_count": 9,
   "metadata": {},
   "outputs": [
    {
     "name": "stdout",
     "output_type": "stream",
     "text": [
      "True\n",
      "False\n",
      "False\n",
      "---\n",
      "10\n",
      "24\n"
     ]
    }
   ],
   "source": [
    "#practice makes perfect\n",
    "# 1\n",
    "def is_even(x):\n",
    "    if x % 2 == 0 : return True\n",
    "    else: return False\n",
    "# ---\n",
    "# 2        \n",
    "def is_int(x):\n",
    "    delta = x - int(x)\n",
    "    if delta == 0.0: return True\n",
    "    else: return False\n",
    "print (is_int(7.0))\n",
    "print (is_int(7.9))\n",
    "print (is_int(-1.2))\n",
    "print('---')\n",
    "# ---\n",
    "# 3 cast ke str, cast ke int       \n",
    "def digit_sum(n):\n",
    "    dsum = 0\n",
    "    n_str = str(n)\n",
    "    for c in n_str: dsum += int(c)\n",
    "    return dsum\n",
    "print (digit_sum(1234))\n",
    "# ---\n",
    "# 4 rekursif\n",
    "def factorial(x):\n",
    "    if x==1: return 1\n",
    "    else: return x*factorial(x-1)\n",
    "print (factorial(4))"
   ]
  },
  {
   "cell_type": "code",
   "execution_count": 10,
   "metadata": {},
   "outputs": [
    {
     "name": "stdout",
     "output_type": "stream",
     "text": [
      "False\n",
      "True\n",
      "fed@cba\n"
     ]
    }
   ],
   "source": [
    "# 5\n",
    "def is_prime(x):\n",
    "    if x < 2 : return False\n",
    "    for n in range(x-2):\n",
    "        if x % (n+2) == 0: return False\n",
    "    return True\n",
    "print (is_prime(9))\n",
    "print (is_prime(11))\n",
    "# ---\n",
    "# 6\n",
    "def reverse(text):\n",
    "    varlength = len(text)\n",
    "    textrev = \"\"\n",
    "    for i in range(varlength): textrev += text[varlength-1-i]\n",
    "    return textrev\n",
    "print (reverse('abc@def'))\n",
    "# You may not use reversed or [::-1] to help you with this.\n",
    "# ---"
   ]
  },
  {
   "cell_type": "code",
   "execution_count": 11,
   "metadata": {},
   "outputs": [
    {
     "name": "stdout",
     "output_type": "stream",
     "text": [
      "Hy Y!\n",
      "15\n"
     ]
    }
   ],
   "source": [
    "# 7\n",
    "def anti_vowel(text):\n",
    "    rettext = \"\"\n",
    "    for c in text:\n",
    "        clower=c.lower()\n",
    "        if clower != 'a' and clower != 'e' and clower != 'i' and clower != 'o' and \\\n",
    "        clower != 'u': rettext += c\n",
    "    return rettext\n",
    "print (anti_vowel(\"Hey You!\"))\n",
    "# ---\n",
    "score = {\"a\": 1, \"c\": 3, \"b\": 3, \"e\": 1, \"d\": 2, \"g\": 2, \"f\": 4, \"i\": 1, \"h\": 4, \"k\": 5, \"j\": 8, \"m\": 3, \"l\": 1, \"o\": 1, \"n\": 1, \"q\": 10, \"p\": 3, \"s\": 1, \"r\": 1, \"u\": 1, \"t\": 1, \"w\": 4, \"v\": 4, \"y\": 4, \"x\": 8, \"z\": 10}\n",
    "def scrabble_score(word):\n",
    "    wordlower = word.lower()\n",
    "    retscore = 0\n",
    "    for c in wordlower:\n",
    "        for key in score:\n",
    "          if key == c:\n",
    "              retscore += score[key]\n",
    "              break\n",
    "    return retscore\n",
    "print (scrabble_score(\"Helix\"))"
   ]
  },
  {
   "cell_type": "code",
   "execution_count": 12,
   "metadata": {},
   "outputs": [
    {
     "name": "stdout",
     "output_type": "stream",
     "text": [
      "this **** is wack ****\n",
      "3\n"
     ]
    }
   ],
   "source": [
    "# 8\n",
    "def censor(text,word):\n",
    "    textlist = text.split()\n",
    "    textlist_new = []\n",
    "    for item in textlist:\n",
    "        if item != word:\n",
    "            textlist_new.append(item)\n",
    "        else:\n",
    "            textlist_new.append(\"*\" * len(item))\n",
    "    return \" \".join(textlist_new)\n",
    "print (censor(\"this hack is wack hack\", \"hack\"))\n",
    "# ---\n",
    "# 9\n",
    "def count(sequence,item):\n",
    "    varcount = 0\n",
    "    for i in sequence:\n",
    "        if i == item: varcount += 1\n",
    "    return varcount\n",
    "print (count([1,2,1,1], 1))"
   ]
  },
  {
   "cell_type": "code",
   "execution_count": 13,
   "metadata": {},
   "outputs": [
    {
     "name": "stdout",
     "output_type": "stream",
     "text": [
      "[2]\n",
      "100\n"
     ]
    }
   ],
   "source": [
    "# 10\n",
    "def purify(numbers):\n",
    "    retnumbers = []\n",
    "    for num in numbers:\n",
    "        if num % 2 == 0: retnumbers.append(num)\n",
    "    return retnumbers\n",
    "print (purify([1,2,3]))\n",
    "# ---\n",
    "# 11\n",
    "def product(numlist):\n",
    "    res = 1\n",
    "    for num in numlist: res *= num\n",
    "    return res\n",
    "print (product([4, 5, 5]))"
   ]
  },
  {
   "cell_type": "code",
   "execution_count": 16,
   "metadata": {},
   "outputs": [
    {
     "name": "stdout",
     "output_type": "stream",
     "text": [
      "[1, 2]\n"
     ]
    },
    {
     "ename": "TypeError",
     "evalue": "list indices must be integers or slices, not float",
     "output_type": "error",
     "traceback": [
      "\u001b[1;31m---------------------------------------------------------------------------\u001b[0m",
      "\u001b[1;31mTypeError\u001b[0m                                 Traceback (most recent call last)",
      "\u001b[1;32m<ipython-input-16-9222c9a85e4d>\u001b[0m in \u001b[0;36m<module>\u001b[1;34m\u001b[0m\n\u001b[0;32m     18\u001b[0m     \u001b[1;32melse\u001b[0m\u001b[1;33m:\u001b[0m\u001b[1;33m\u001b[0m\u001b[1;33m\u001b[0m\u001b[0m\n\u001b[0;32m     19\u001b[0m         \u001b[1;32mreturn\u001b[0m \u001b[1;33m(\u001b[0m\u001b[0msortedlist\u001b[0m\u001b[1;33m[\u001b[0m\u001b[0mlength\u001b[0m\u001b[1;33m/\u001b[0m\u001b[1;36m2\u001b[0m \u001b[1;33m-\u001b[0m \u001b[1;36m1\u001b[0m\u001b[1;33m]\u001b[0m \u001b[1;33m+\u001b[0m \u001b[0msortedlist\u001b[0m\u001b[1;33m[\u001b[0m\u001b[0mlength\u001b[0m\u001b[1;33m/\u001b[0m\u001b[1;36m2\u001b[0m\u001b[1;33m]\u001b[0m\u001b[1;33m)\u001b[0m\u001b[1;33m/\u001b[0m\u001b[1;36m2.0\u001b[0m\u001b[1;33m\u001b[0m\u001b[1;33m\u001b[0m\u001b[0m\n\u001b[1;32m---> 20\u001b[1;33m \u001b[0mprint\u001b[0m \u001b[1;33m(\u001b[0m\u001b[0mmedian\u001b[0m\u001b[1;33m(\u001b[0m\u001b[1;33m[\u001b[0m\u001b[1;36m1\u001b[0m\u001b[1;33m,\u001b[0m\u001b[1;36m1\u001b[0m\u001b[1;33m,\u001b[0m\u001b[1;36m2\u001b[0m\u001b[1;33m]\u001b[0m\u001b[1;33m)\u001b[0m\u001b[1;33m)\u001b[0m  \u001b[1;31m# 1\u001b[0m\u001b[1;33m\u001b[0m\u001b[1;33m\u001b[0m\u001b[0m\n\u001b[0m\u001b[0;32m     21\u001b[0m \u001b[0mprint\u001b[0m \u001b[1;33m(\u001b[0m\u001b[0mmedian\u001b[0m\u001b[1;33m(\u001b[0m\u001b[1;33m[\u001b[0m\u001b[1;36m7\u001b[0m\u001b[1;33m,\u001b[0m\u001b[1;36m3\u001b[0m\u001b[1;33m,\u001b[0m\u001b[1;36m1\u001b[0m\u001b[1;33m,\u001b[0m\u001b[1;36m4\u001b[0m\u001b[1;33m]\u001b[0m\u001b[1;33m)\u001b[0m\u001b[1;33m)\u001b[0m \u001b[1;31m# 3.5\u001b[0m\u001b[1;33m\u001b[0m\u001b[1;33m\u001b[0m\u001b[0m\n",
      "\u001b[1;32m<ipython-input-16-9222c9a85e4d>\u001b[0m in \u001b[0;36mmedian\u001b[1;34m(varlist)\u001b[0m\n\u001b[0;32m     15\u001b[0m     \u001b[0mlength\u001b[0m \u001b[1;33m=\u001b[0m \u001b[0mlen\u001b[0m\u001b[1;33m(\u001b[0m\u001b[0mvarlist\u001b[0m\u001b[1;33m)\u001b[0m\u001b[1;33m\u001b[0m\u001b[1;33m\u001b[0m\u001b[0m\n\u001b[0;32m     16\u001b[0m     \u001b[1;32mif\u001b[0m \u001b[0mlength\u001b[0m \u001b[1;33m%\u001b[0m \u001b[1;36m2\u001b[0m \u001b[1;33m==\u001b[0m \u001b[1;36m1\u001b[0m\u001b[1;33m:\u001b[0m\u001b[1;33m\u001b[0m\u001b[1;33m\u001b[0m\u001b[0m\n\u001b[1;32m---> 17\u001b[1;33m         \u001b[1;32mreturn\u001b[0m \u001b[0msortedlist\u001b[0m\u001b[1;33m[\u001b[0m \u001b[1;33m(\u001b[0m\u001b[1;33m(\u001b[0m\u001b[0mlength\u001b[0m\u001b[1;33m+\u001b[0m\u001b[1;36m1\u001b[0m\u001b[1;33m)\u001b[0m \u001b[1;33m/\u001b[0m \u001b[1;36m2\u001b[0m \u001b[1;33m-\u001b[0m \u001b[1;36m1\u001b[0m\u001b[1;33m)\u001b[0m \u001b[1;33m]\u001b[0m\u001b[1;33m\u001b[0m\u001b[1;33m\u001b[0m\u001b[0m\n\u001b[0m\u001b[0;32m     18\u001b[0m     \u001b[1;32melse\u001b[0m\u001b[1;33m:\u001b[0m\u001b[1;33m\u001b[0m\u001b[1;33m\u001b[0m\u001b[0m\n\u001b[0;32m     19\u001b[0m         \u001b[1;32mreturn\u001b[0m \u001b[1;33m(\u001b[0m\u001b[0msortedlist\u001b[0m\u001b[1;33m[\u001b[0m\u001b[0mlength\u001b[0m\u001b[1;33m/\u001b[0m\u001b[1;36m2\u001b[0m \u001b[1;33m-\u001b[0m \u001b[1;36m1\u001b[0m\u001b[1;33m]\u001b[0m \u001b[1;33m+\u001b[0m \u001b[0msortedlist\u001b[0m\u001b[1;33m[\u001b[0m\u001b[0mlength\u001b[0m\u001b[1;33m/\u001b[0m\u001b[1;36m2\u001b[0m\u001b[1;33m]\u001b[0m\u001b[1;33m)\u001b[0m\u001b[1;33m/\u001b[0m\u001b[1;36m2.0\u001b[0m\u001b[1;33m\u001b[0m\u001b[1;33m\u001b[0m\u001b[0m\n",
      "\u001b[1;31mTypeError\u001b[0m: list indices must be integers or slices, not float"
     ]
    }
   ],
   "source": [
    "#BINGUNG LAGI\n",
    "# 12\n",
    "def remove_duplicates(varlist):\n",
    "    newlist = []\n",
    "    for var in varlist:\n",
    "        if var not in newlist: newlist.append(var)\n",
    "    return newlist\n",
    "print (remove_duplicates([1,1,2,2]))\n",
    "# ---\n",
    "# 13 sorted()\n",
    "# The median is the middle number in a sorted sequence of numbers. If you are given a sequence with \n",
    "# an even number of elements, you must average the two elements surrounding the middle.\n",
    "# sorted([5, 2, 3, 1, 4]) --> [1, 2, 3, 4, 5]\n",
    "def median(varlist):\n",
    "    sortedlist = sorted(varlist)\n",
    "    length = len(varlist)\n",
    "    if length % 2 == 1:\n",
    "        return sortedlist[ ((length+1) / 2 - 1) ]\n",
    "    else:\n",
    "        return (sortedlist[length/2 - 1] + sortedlist[length/2])/2.0\n",
    "print (median([1,1,2]))  # 1\n",
    "print (median([7,3,1,4])) # 3.5"
   ]
  },
  {
   "cell_type": "code",
   "execution_count": null,
   "metadata": {},
   "outputs": [],
   "source": []
  }
 ],
 "metadata": {
  "kernelspec": {
   "display_name": "Python 3",
   "language": "python",
   "name": "python3"
  },
  "language_info": {
   "codemirror_mode": {
    "name": "ipython",
    "version": 3
   },
   "file_extension": ".py",
   "mimetype": "text/x-python",
   "name": "python",
   "nbconvert_exporter": "python",
   "pygments_lexer": "ipython3",
   "version": "3.7.3"
  }
 },
 "nbformat": 4,
 "nbformat_minor": 2
}
